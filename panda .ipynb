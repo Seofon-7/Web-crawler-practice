{
 "cells": [
  {
   "cell_type": "code",
   "execution_count": 2,
   "metadata": {},
   "outputs": [],
   "source": [
    "import requests\n",
    "from bs4 import BeautifulSoup"
   ]
  },
  {
   "cell_type": "code",
   "execution_count": 3,
   "metadata": {},
   "outputs": [
    {
     "name": "stdout",
     "output_type": "stream",
     "text": [
      "Requirement already up-to-date: beautifulsoup4 in c:\\users\\mark\\anaconda3\\lib\\site-packages (4.9.1)\n",
      "Requirement already satisfied, skipping upgrade: soupsieve>1.2 in c:\\users\\mark\\anaconda3\\lib\\site-packages (from beautifulsoup4) (2.0.1)\n"
     ]
    }
   ],
   "source": [
    "!pip install -U beautifulsoup4"
   ]
  },
  {
   "cell_type": "code",
   "execution_count": 4,
   "metadata": {},
   "outputs": [],
   "source": [
    "def get_price_rank():\n",
    "    request_url = \"https://tw.stock.yahoo.com/d/i/rank.php?t=pri&e=tse&n=100\"\n",
    "    query_string_parameters = {\n",
    "        't': 'pri',\n",
    "        'e': 'tse',\n",
    "        'n': 100\n",
    "    } \n",
    "    response = requests.get( request_url,params = query_string_parameters)\n",
    "    soup = BeautifulSoup(response.text)\n",
    "    ticker_stock_name_cs = \".name a\"\n",
    "    price_cs = \".name+ td\"\n",
    "    ticker_stock_name = [e.text for e in soup.select(ticker_stock_name_cs)]\n",
    "    tickers = [i.split()[0] for i in ticker_stock_name]\n",
    "    stock_names = [i.split()[1] for i in ticker_stock_name]\n",
    "    prices = [float(e.text) for e in soup.select(price_cs)]\n",
    "    return tickers,stock_names,prices"
   ]
  },
  {
   "cell_type": "code",
   "execution_count": 5,
   "metadata": {},
   "outputs": [
    {
     "data": {
      "text/plain": [
       "(['6116',\n",
       "  '3682',\n",
       "  '2409',\n",
       "  '3481',\n",
       "  '2603',\n",
       "  '1609',\n",
       "  '00677U',\n",
       "  '00632R',\n",
       "  '2888',\n",
       "  '1513',\n",
       "  '00637L',\n",
       "  '1305',\n",
       "  '2303',\n",
       "  '1314',\n",
       "  '6443',\n",
       "  '9958',\n",
       "  '1802',\n",
       "  '1304',\n",
       "  '2337',\n",
       "  '3037',\n",
       "  '1310',\n",
       "  '2417',\n",
       "  '9105',\n",
       "  '8926',\n",
       "  '2010',\n",
       "  '1309',\n",
       "  '3047',\n",
       "  '9103',\n",
       "  '1312',\n",
       "  '3576'],\n",
       " ['彩晶',\n",
       "  '亞太電',\n",
       "  '友達',\n",
       "  '群創',\n",
       "  '長榮',\n",
       "  '大亞',\n",
       "  '富邦VIX',\n",
       "  '元大台灣50反1',\n",
       "  '新光金',\n",
       "  '中興電',\n",
       "  '元大滬深300正2',\n",
       "  '華夏',\n",
       "  '聯電',\n",
       "  '中石化',\n",
       "  '元晶',\n",
       "  '世紀鋼',\n",
       "  '台玻',\n",
       "  '台聚',\n",
       "  '旺宏',\n",
       "  '欣興',\n",
       "  '台苯',\n",
       "  '圓剛',\n",
       "  '泰金寶-DR',\n",
       "  '台汽電',\n",
       "  '春源',\n",
       "  '台達化',\n",
       "  '訊舟',\n",
       "  '美德醫療-DR',\n",
       "  '國喬',\n",
       "  '聯合再生'],\n",
       " [9.84,\n",
       "  11.3,\n",
       "  12.3,\n",
       "  10.2,\n",
       "  18.95,\n",
       "  17.65,\n",
       "  5.01,\n",
       "  8.39,\n",
       "  8.69,\n",
       "  54.4,\n",
       "  21.35,\n",
       "  22.3,\n",
       "  23.15,\n",
       "  8.99,\n",
       "  27.05,\n",
       "  135.0,\n",
       "  13.05,\n",
       "  16.55,\n",
       "  32.2,\n",
       "  72.8,\n",
       "  17.3,\n",
       "  62.3,\n",
       "  6.9,\n",
       "  43.4,\n",
       "  11.7,\n",
       "  29.95,\n",
       "  16.0,\n",
       "  54.1,\n",
       "  20.4,\n",
       "  11.65])"
      ]
     },
     "execution_count": 5,
     "metadata": {},
     "output_type": "execute_result"
    }
   ],
   "source": [
    "get_price_rank()"
   ]
  },
  {
   "cell_type": "code",
   "execution_count": 6,
   "metadata": {},
   "outputs": [
    {
     "name": "stdout",
     "output_type": "stream",
     "text": [
      "['6116', '3682', '2409', '3481', '2603', '1609', '00677U', '00632R', '2888', '1513', '00637L', '1305', '2303', '1314', '6443', '9958', '1802', '1304', '2337', '3037', '1310', '2417', '9105', '8926', '2010', '1309', '3047', '9103', '1312', '3576']\n",
      "['彩晶', '亞太電', '友達', '群創', '長榮', '大亞', '富邦VIX', '元大台灣50反1', '新光金', '中興電', '元大滬深300正2', '華夏', '聯電', '中石化', '元晶', '世紀鋼', '台玻', '台聚', '旺宏', '欣興', '台苯', '圓剛', '泰金寶-DR', '台汽電', '春源', '台達化', '訊舟', '美德醫療-DR', '國喬', '聯合再生']\n",
      "[9.84, 11.3, 12.3, 10.2, 18.95, 17.65, 5.01, 8.39, 8.69, 54.4, 21.35, 22.3, 23.15, 8.99, 27.05, 135.0, 13.05, 16.55, 32.2, 72.8, 17.3, 62.3, 6.9, 43.4, 11.7, 29.95, 16.0, 54.1, 20.4, 11.65]\n"
     ]
    }
   ],
   "source": [
    "stock_tickers, stock_names, prices = get_price_rank()\n",
    "print(stock_tickers)\n",
    "print(stock_names)\n",
    "print(prices)"
   ]
  },
  {
   "cell_type": "code",
   "execution_count": 7,
   "metadata": {},
   "outputs": [
    {
     "name": "stdout",
     "output_type": "stream",
     "text": [
      "1\n",
      "12.3\n"
     ]
    }
   ],
   "source": [
    "from statistics import median\n",
    "#從名字有友達的股票中計算價格中位數\n",
    "ky_prices = [price for stock_name, price in zip(stock_names, prices) if \"友達\" in stock_name]\n",
    "print(len(ky_prices))\n",
    "print(median(ky_prices))"
   ]
  },
  {
   "cell_type": "code",
   "execution_count": 8,
   "metadata": {},
   "outputs": [
    {
     "data": {
      "text/html": [
       "<div>\n",
       "<style scoped>\n",
       "    .dataframe tbody tr th:only-of-type {\n",
       "        vertical-align: middle;\n",
       "    }\n",
       "\n",
       "    .dataframe tbody tr th {\n",
       "        vertical-align: top;\n",
       "    }\n",
       "\n",
       "    .dataframe thead th {\n",
       "        text-align: right;\n",
       "    }\n",
       "</style>\n",
       "<table border=\"1\" class=\"dataframe\">\n",
       "  <thead>\n",
       "    <tr style=\"text-align: right;\">\n",
       "      <th></th>\n",
       "      <th>ticker</th>\n",
       "      <th>stock_name</th>\n",
       "      <th>price</th>\n",
       "    </tr>\n",
       "  </thead>\n",
       "  <tbody>\n",
       "    <tr>\n",
       "      <th>0</th>\n",
       "      <td>6116</td>\n",
       "      <td>彩晶</td>\n",
       "      <td>9.84</td>\n",
       "    </tr>\n",
       "    <tr>\n",
       "      <th>1</th>\n",
       "      <td>3682</td>\n",
       "      <td>亞太電</td>\n",
       "      <td>11.30</td>\n",
       "    </tr>\n",
       "    <tr>\n",
       "      <th>2</th>\n",
       "      <td>2409</td>\n",
       "      <td>友達</td>\n",
       "      <td>12.30</td>\n",
       "    </tr>\n",
       "    <tr>\n",
       "      <th>3</th>\n",
       "      <td>3481</td>\n",
       "      <td>群創</td>\n",
       "      <td>10.20</td>\n",
       "    </tr>\n",
       "    <tr>\n",
       "      <th>4</th>\n",
       "      <td>2603</td>\n",
       "      <td>長榮</td>\n",
       "      <td>18.95</td>\n",
       "    </tr>\n",
       "  </tbody>\n",
       "</table>\n",
       "</div>"
      ],
      "text/plain": [
       "  ticker stock_name  price\n",
       "0   6116         彩晶   9.84\n",
       "1   3682        亞太電  11.30\n",
       "2   2409         友達  12.30\n",
       "3   3481         群創  10.20\n",
       "4   2603         長榮  18.95"
      ]
     },
     "execution_count": 8,
     "metadata": {},
     "output_type": "execute_result"
    }
   ],
   "source": [
    "import pandas as pd\n",
    "\n",
    "df = pd.DataFrame()\n",
    "df[\"ticker\"] = stock_tickers\n",
    "df[\"stock_name\"] = stock_names\n",
    "df[\"price\"] = prices\n",
    "df.head()"
   ]
  },
  {
   "cell_type": "code",
   "execution_count": 9,
   "metadata": {},
   "outputs": [
    {
     "data": {
      "text/plain": [
       "<bound method NDFrame.head of     ticker stock_name   price\n",
       "0     6116         彩晶    9.84\n",
       "1     3682        亞太電   11.30\n",
       "2     2409         友達   12.30\n",
       "3     3481         群創   10.20\n",
       "4     2603         長榮   18.95\n",
       "5     1609         大亞   17.65\n",
       "6   00677U      富邦VIX    5.01\n",
       "7   00632R   元大台灣50反1    8.39\n",
       "8     2888        新光金    8.69\n",
       "9     1513        中興電   54.40\n",
       "10  00637L  元大滬深300正2   21.35\n",
       "11    1305         華夏   22.30\n",
       "12    2303         聯電   23.15\n",
       "13    1314        中石化    8.99\n",
       "14    6443         元晶   27.05\n",
       "15    9958        世紀鋼  135.00\n",
       "16    1802         台玻   13.05\n",
       "17    1304         台聚   16.55\n",
       "18    2337         旺宏   32.20\n",
       "19    3037         欣興   72.80\n",
       "20    1310         台苯   17.30\n",
       "21    2417         圓剛   62.30\n",
       "22    9105     泰金寶-DR    6.90\n",
       "23    8926        台汽電   43.40\n",
       "24    2010         春源   11.70\n",
       "25    1309        台達化   29.95\n",
       "26    3047         訊舟   16.00\n",
       "27    9103    美德醫療-DR   54.10\n",
       "28    1312         國喬   20.40\n",
       "29    3576       聯合再生   11.65>"
      ]
     },
     "execution_count": 9,
     "metadata": {},
     "output_type": "execute_result"
    }
   ],
   "source": [
    "df.head"
   ]
  },
  {
   "cell_type": "code",
   "execution_count": 10,
   "metadata": {},
   "outputs": [
    {
     "name": "stdout",
     "output_type": "stream",
     "text": [
      "0     False\n",
      "1     False\n",
      "2      True\n",
      "3     False\n",
      "4     False\n",
      "5     False\n",
      "6     False\n",
      "7     False\n",
      "8     False\n",
      "9     False\n",
      "10    False\n",
      "11    False\n",
      "12    False\n",
      "13    False\n",
      "14    False\n",
      "15    False\n",
      "16    False\n",
      "17    False\n",
      "18    False\n",
      "19    False\n",
      "20    False\n",
      "21    False\n",
      "22    False\n",
      "23    False\n",
      "24    False\n",
      "25    False\n",
      "26    False\n",
      "27    False\n",
      "28    False\n",
      "29    False\n",
      "Name: stock_name, dtype: bool\n"
     ]
    },
    {
     "data": {
      "text/html": [
       "<div>\n",
       "<style scoped>\n",
       "    .dataframe tbody tr th:only-of-type {\n",
       "        vertical-align: middle;\n",
       "    }\n",
       "\n",
       "    .dataframe tbody tr th {\n",
       "        vertical-align: top;\n",
       "    }\n",
       "\n",
       "    .dataframe thead th {\n",
       "        text-align: right;\n",
       "    }\n",
       "</style>\n",
       "<table border=\"1\" class=\"dataframe\">\n",
       "  <thead>\n",
       "    <tr style=\"text-align: right;\">\n",
       "      <th></th>\n",
       "      <th>ticker</th>\n",
       "      <th>stock_name</th>\n",
       "      <th>price</th>\n",
       "    </tr>\n",
       "  </thead>\n",
       "  <tbody>\n",
       "    <tr>\n",
       "      <th>2</th>\n",
       "      <td>2409</td>\n",
       "      <td>友達</td>\n",
       "      <td>12.3</td>\n",
       "    </tr>\n",
       "  </tbody>\n",
       "</table>\n",
       "</div>"
      ],
      "text/plain": [
       "  ticker stock_name  price\n",
       "2   2409         友達   12.3"
      ]
     },
     "execution_count": 10,
     "metadata": {},
     "output_type": "execute_result"
    }
   ],
   "source": [
    "#判斷股票中有沒有符合友達的名字\n",
    "print(df['stock_name'].str.contains(\"友達\"))\n",
    "df[df['stock_name'].str.contains(\"友達\")]"
   ]
  },
  {
   "cell_type": "code",
   "execution_count": 11,
   "metadata": {},
   "outputs": [
    {
     "name": "stdout",
     "output_type": "stream",
     "text": [
      "<class 'pandas.core.series.Series'>\n",
      "0    8.0\n",
      "1    7.3\n",
      "2    8.5\n",
      "3    8.6\n",
      "dtype: float64\n",
      "8.6\n"
     ]
    }
   ],
   "source": [
    "import pandas as pd\n",
    "\n",
    "movie_ratings = [8.0, 7.3, 8.5, 8.6]\n",
    "ser = pd.Series(movie_ratings)\n",
    "print(type(ser))\n",
    "print(ser)\n",
    "print(ser[3])"
   ]
  },
  {
   "cell_type": "code",
   "execution_count": 12,
   "metadata": {},
   "outputs": [
    {
     "name": "stdout",
     "output_type": "stream",
     "text": [
      "The Avengers               8.0\n",
      "Avengers: Age of Ultron    7.3\n",
      "Avengers: Infinity War     8.5\n",
      "Avengers: Endgame          8.6\n",
      "dtype: float64\n",
      "8.6\n",
      "8.5\n",
      "8.0\n"
     ]
    }
   ],
   "source": [
    "movie_ratings = [8.0, 7.3, 8.5, 8.6]\n",
    "movie_titles = [\"The Avengers\", \"Avengers: Age of Ultron\", \"Avengers: Infinity War\", \"Avengers: Endgame\"]\n",
    "ser = pd.Series(movie_ratings, index=movie_titles) #可選擇index(預設是0~n)\n",
    "print(ser)\n",
    "print(ser[\"Avengers: Endgame\"])\n",
    "print(ser[2])\n",
    "print(ser['The Avengers'])"
   ]
  },
  {
   "cell_type": "code",
   "execution_count": 13,
   "metadata": {},
   "outputs": [
    {
     "name": "stdout",
     "output_type": "stream",
     "text": [
      "Index(['The Avengers', 'Avengers: Age of Ultron', 'Avengers: Infinity War',\n",
      "       'Avengers: Endgame'],\n",
      "      dtype='object')\n",
      "<class 'pandas.core.indexes.base.Index'>\n",
      "[8.  7.3 8.5 8.6]\n",
      "<class 'numpy.ndarray'>\n"
     ]
    }
   ],
   "source": [
    "print(ser.index)\n",
    "print(type(ser.index))\n",
    "print(ser.values)\n",
    "print(type(ser.values))"
   ]
  },
  {
   "cell_type": "code",
   "execution_count": 14,
   "metadata": {},
   "outputs": [
    {
     "name": "stdout",
     "output_type": "stream",
     "text": [
      "<class 'pandas.core.frame.DataFrame'>\n"
     ]
    },
    {
     "data": {
      "text/html": [
       "<div>\n",
       "<style scoped>\n",
       "    .dataframe tbody tr th:only-of-type {\n",
       "        vertical-align: middle;\n",
       "    }\n",
       "\n",
       "    .dataframe tbody tr th {\n",
       "        vertical-align: top;\n",
       "    }\n",
       "\n",
       "    .dataframe thead th {\n",
       "        text-align: right;\n",
       "    }\n",
       "</style>\n",
       "<table border=\"1\" class=\"dataframe\">\n",
       "  <thead>\n",
       "    <tr style=\"text-align: right;\">\n",
       "      <th></th>\n",
       "      <th>title</th>\n",
       "      <th>rating</th>\n",
       "    </tr>\n",
       "  </thead>\n",
       "  <tbody>\n",
       "    <tr>\n",
       "      <th>0</th>\n",
       "      <td>The Avengers</td>\n",
       "      <td>8.0</td>\n",
       "    </tr>\n",
       "    <tr>\n",
       "      <th>1</th>\n",
       "      <td>Avengers: Age of Ultron</td>\n",
       "      <td>7.3</td>\n",
       "    </tr>\n",
       "    <tr>\n",
       "      <th>2</th>\n",
       "      <td>Avengers: Infinity War</td>\n",
       "      <td>8.5</td>\n",
       "    </tr>\n",
       "    <tr>\n",
       "      <th>3</th>\n",
       "      <td>Avengers: Endgame</td>\n",
       "      <td>8.6</td>\n",
       "    </tr>\n",
       "  </tbody>\n",
       "</table>\n",
       "</div>"
      ],
      "text/plain": [
       "                     title  rating\n",
       "0             The Avengers     8.0\n",
       "1  Avengers: Age of Ultron     7.3\n",
       "2   Avengers: Infinity War     8.5\n",
       "3        Avengers: Endgame     8.6"
      ]
     },
     "execution_count": 14,
     "metadata": {},
     "output_type": "execute_result"
    }
   ],
   "source": [
    "movie_ratings = [8.0, 7.3, 8.5, 8.6]\n",
    "movie_titles = [\"The Avengers\", \"Avengers: Age of Ultron\", \"Avengers: Infinity War\", \"Avengers: Endgame\"]\n",
    "df = pd.DataFrame()\n",
    "df[\"title\"] = movie_titles\n",
    "df[\"rating\"] = movie_ratings\n",
    "print(type(df))\n",
    "df"
   ]
  },
  {
   "cell_type": "code",
   "execution_count": 15,
   "metadata": {},
   "outputs": [
    {
     "name": "stdout",
     "output_type": "stream",
     "text": [
      "RangeIndex(start=0, stop=4, step=1)\n",
      "Index(['title', 'rating'], dtype='object')\n",
      "0               The Avengers\n",
      "1    Avengers: Age of Ultron\n",
      "2     Avengers: Infinity War\n",
      "3          Avengers: Endgame\n",
      "Name: title, dtype: object\n",
      "0    8.0\n",
      "1    7.3\n",
      "2    8.5\n",
      "3    8.6\n",
      "Name: rating, dtype: float64\n"
     ]
    }
   ],
   "source": [
    "movie_ratings = [8.0, 7.3, 8.5, 8.6]\n",
    "movie_titles = [\"The Avengers\", \"Avengers: Age of Ultron\", \"Avengers: Infinity War\", \"Avengers: Endgame\"]\n",
    "df = pd.DataFrame()\n",
    "df[\"title\"] = movie_titles\n",
    "df[\"rating\"] = movie_ratings\n",
    "print(df.index)\n",
    "print(df.columns)\n",
    "print(df[\"title\"])\n",
    "print(df[\"rating\"])"
   ]
  },
  {
   "cell_type": "code",
   "execution_count": 16,
   "metadata": {},
   "outputs": [
    {
     "name": "stdout",
     "output_type": "stream",
     "text": [
      "<class 'pandas.core.indexes.numeric.Int64Index'>\n",
      "Int64Index([0, 2, 3, 4], dtype='int64')\n"
     ]
    }
   ],
   "source": [
    "pd_index = pd.Index([0, 2, 3, 4])\n",
    "print(type(pd_index))\n",
    "print(pd_index)"
   ]
  },
  {
   "cell_type": "code",
   "execution_count": 17,
   "metadata": {},
   "outputs": [
    {
     "ename": "TypeError",
     "evalue": "Index does not support mutable operations",
     "output_type": "error",
     "traceback": [
      "\u001b[1;31m---------------------------------------------------------------------------\u001b[0m",
      "\u001b[1;31mTypeError\u001b[0m                                 Traceback (most recent call last)",
      "\u001b[1;32m<ipython-input-17-6dbc7c331edf>\u001b[0m in \u001b[0;36m<module>\u001b[1;34m\u001b[0m\n\u001b[1;32m----> 1\u001b[1;33m \u001b[0mpd_index\u001b[0m\u001b[1;33m[\u001b[0m\u001b[1;36m0\u001b[0m\u001b[1;33m]\u001b[0m \u001b[1;33m=\u001b[0m \u001b[1;36m1\u001b[0m \u001b[1;31m#index不可直接更新,有不可變的特性\u001b[0m\u001b[1;33m\u001b[0m\u001b[1;33m\u001b[0m\u001b[0m\n\u001b[0m",
      "\u001b[1;32m~\\anaconda3\\lib\\site-packages\\pandas\\core\\indexes\\base.py\u001b[0m in \u001b[0;36m__setitem__\u001b[1;34m(self, key, value)\u001b[0m\n\u001b[0;32m   3908\u001b[0m \u001b[1;33m\u001b[0m\u001b[0m\n\u001b[0;32m   3909\u001b[0m     \u001b[1;32mdef\u001b[0m \u001b[0m__setitem__\u001b[0m\u001b[1;33m(\u001b[0m\u001b[0mself\u001b[0m\u001b[1;33m,\u001b[0m \u001b[0mkey\u001b[0m\u001b[1;33m,\u001b[0m \u001b[0mvalue\u001b[0m\u001b[1;33m)\u001b[0m\u001b[1;33m:\u001b[0m\u001b[1;33m\u001b[0m\u001b[1;33m\u001b[0m\u001b[0m\n\u001b[1;32m-> 3910\u001b[1;33m         \u001b[1;32mraise\u001b[0m \u001b[0mTypeError\u001b[0m\u001b[1;33m(\u001b[0m\u001b[1;34m\"Index does not support mutable operations\"\u001b[0m\u001b[1;33m)\u001b[0m\u001b[1;33m\u001b[0m\u001b[1;33m\u001b[0m\u001b[0m\n\u001b[0m\u001b[0;32m   3911\u001b[0m \u001b[1;33m\u001b[0m\u001b[0m\n\u001b[0;32m   3912\u001b[0m     \u001b[1;32mdef\u001b[0m \u001b[0m__getitem__\u001b[0m\u001b[1;33m(\u001b[0m\u001b[0mself\u001b[0m\u001b[1;33m,\u001b[0m \u001b[0mkey\u001b[0m\u001b[1;33m)\u001b[0m\u001b[1;33m:\u001b[0m\u001b[1;33m\u001b[0m\u001b[1;33m\u001b[0m\u001b[0m\n",
      "\u001b[1;31mTypeError\u001b[0m: Index does not support mutable operations"
     ]
    }
   ],
   "source": [
    "pd_index[0] = 1 #index不可直接更新,有不可變的特性"
   ]
  },
  {
   "cell_type": "code",
   "execution_count": 18,
   "metadata": {},
   "outputs": [
    {
     "name": "stdout",
     "output_type": "stream",
     "text": [
      "Int64Index([3, 5, 7], dtype='int64')\n",
      "Int64Index([1, 2, 3, 5, 7, 9], dtype='int64')\n",
      "Int64Index([1, 2, 9], dtype='int64')\n"
     ]
    }
   ],
   "source": [
    "#集合運算\n",
    "odds_index = pd.Index([1, 3, 5, 7, 9])\n",
    "primes_index = pd.Index([2, 3, 5, 7])\n",
    "print(odds_index & primes_index) # and\n",
    "print(odds_index | primes_index) # or\n",
    "print(odds_index ^ primes_index) # exclusive or"
   ]
  },
  {
   "cell_type": "code",
   "execution_count": 19,
   "metadata": {},
   "outputs": [
    {
     "name": "stdout",
     "output_type": "stream",
     "text": [
      "0    9.0\n",
      "1    8.9\n",
      "2    8.8\n",
      "3    8.7\n",
      "dtype: float64\n"
     ]
    }
   ],
   "source": [
    "#常見series創建方式\n",
    "movie_ratings = [9.0, 8.9, 8.8, 8.7]\n",
    "ser = pd.Series(movie_ratings)\n",
    "print(ser)"
   ]
  },
  {
   "cell_type": "code",
   "execution_count": 20,
   "metadata": {},
   "outputs": [
    {
     "name": "stdout",
     "output_type": "stream",
     "text": [
      "Index(['The Dark Knight', 'Schindler's List', 'Forrest Gump', 'Inception'], dtype='object')\n",
      "[9.  8.9 8.8 8.7]\n",
      "The Dark Knight     9.0\n",
      "Schindler's List    8.9\n",
      "Forrest Gump        8.8\n",
      "Inception           8.7\n",
      "dtype: float64\n"
     ]
    }
   ],
   "source": [
    "#建立ndarray\n",
    "movie_ratings = [9.0, 8.9, 8.8, 8.7]\n",
    "movie_titles = [\"The Dark Knight\", \"Schindler's List\", \"Forrest Gump\", \"Inception\"]\n",
    "ser = pd.Series(movie_ratings, index=movie_titles)\n",
    "print(ser.index)\n",
    "print(ser.values)\n",
    "print(ser)"
   ]
  },
  {
   "cell_type": "code",
   "execution_count": 21,
   "metadata": {},
   "outputs": [
    {
     "data": {
      "text/plain": [
       "The Dark Knight    9.0\n",
       "chindler's List    8.9\n",
       "Forrest Gump       8.8\n",
       "Inception          8.7\n",
       "dtype: float64"
      ]
     },
     "execution_count": 21,
     "metadata": {},
     "output_type": "execute_result"
    }
   ],
   "source": [
    "movie_dict = {\n",
    "    'The Dark Knight' : 9.0,\n",
    "    \"chindler's List\" : 8.9,\n",
    "    'Forrest Gump' : 8.8 , \n",
    "    'Inception':8.7\n",
    "}\n",
    "ser = pd.Series(movie_dict)\n",
    "ser"
   ]
  },
  {
   "cell_type": "code",
   "execution_count": 22,
   "metadata": {},
   "outputs": [
    {
     "data": {
      "text/html": [
       "<div>\n",
       "<style scoped>\n",
       "    .dataframe tbody tr th:only-of-type {\n",
       "        vertical-align: middle;\n",
       "    }\n",
       "\n",
       "    .dataframe tbody tr th {\n",
       "        vertical-align: top;\n",
       "    }\n",
       "\n",
       "    .dataframe thead th {\n",
       "        text-align: right;\n",
       "    }\n",
       "</style>\n",
       "<table border=\"1\" class=\"dataframe\">\n",
       "  <thead>\n",
       "    <tr style=\"text-align: right;\">\n",
       "      <th></th>\n",
       "      <th>title</th>\n",
       "      <th>rating</th>\n",
       "    </tr>\n",
       "  </thead>\n",
       "  <tbody>\n",
       "    <tr>\n",
       "      <th>0</th>\n",
       "      <td>The Dark Knight</td>\n",
       "      <td>9.0</td>\n",
       "    </tr>\n",
       "    <tr>\n",
       "      <th>1</th>\n",
       "      <td>Schindler's List</td>\n",
       "      <td>8.9</td>\n",
       "    </tr>\n",
       "    <tr>\n",
       "      <th>2</th>\n",
       "      <td>Forrest Gump</td>\n",
       "      <td>8.8</td>\n",
       "    </tr>\n",
       "    <tr>\n",
       "      <th>3</th>\n",
       "      <td>Inception</td>\n",
       "      <td>8.7</td>\n",
       "    </tr>\n",
       "  </tbody>\n",
       "</table>\n",
       "</div>"
      ],
      "text/plain": [
       "              title  rating\n",
       "0   The Dark Knight     9.0\n",
       "1  Schindler's List     8.9\n",
       "2      Forrest Gump     8.8\n",
       "3         Inception     8.7"
      ]
     },
     "execution_count": 22,
     "metadata": {},
     "output_type": "execute_result"
    }
   ],
   "source": [
    "movie_ratings = [9.0, 8.9, 8.8, 8.7]\n",
    "movie_titles = [\"The Dark Knight\", \"Schindler's List\", \"Forrest Gump\", \"Inception\"]\n",
    "df = pd.DataFrame()\n",
    "df[\"title\"] = movie_titles\n",
    "df[\"rating\"] = movie_ratings\n",
    "df"
   ]
  },
  {
   "cell_type": "code",
   "execution_count": 23,
   "metadata": {},
   "outputs": [
    {
     "data": {
      "text/html": [
       "<div>\n",
       "<style scoped>\n",
       "    .dataframe tbody tr th:only-of-type {\n",
       "        vertical-align: middle;\n",
       "    }\n",
       "\n",
       "    .dataframe tbody tr th {\n",
       "        vertical-align: top;\n",
       "    }\n",
       "\n",
       "    .dataframe thead th {\n",
       "        text-align: right;\n",
       "    }\n",
       "</style>\n",
       "<table border=\"1\" class=\"dataframe\">\n",
       "  <thead>\n",
       "    <tr style=\"text-align: right;\">\n",
       "      <th></th>\n",
       "      <th>title</th>\n",
       "      <th>rating</th>\n",
       "    </tr>\n",
       "  </thead>\n",
       "  <tbody>\n",
       "    <tr>\n",
       "      <th>0</th>\n",
       "      <td>The Dark Knight</td>\n",
       "      <td>9.0</td>\n",
       "    </tr>\n",
       "    <tr>\n",
       "      <th>1</th>\n",
       "      <td>Schindler's List</td>\n",
       "      <td>8.9</td>\n",
       "    </tr>\n",
       "    <tr>\n",
       "      <th>2</th>\n",
       "      <td>Forrest Gump</td>\n",
       "      <td>8.8</td>\n",
       "    </tr>\n",
       "    <tr>\n",
       "      <th>3</th>\n",
       "      <td>Inception</td>\n",
       "      <td>8.7</td>\n",
       "    </tr>\n",
       "  </tbody>\n",
       "</table>\n",
       "</div>"
      ],
      "text/plain": [
       "              title  rating\n",
       "0   The Dark Knight     9.0\n",
       "1  Schindler's List     8.9\n",
       "2      Forrest Gump     8.8\n",
       "3         Inception     8.7"
      ]
     },
     "execution_count": 23,
     "metadata": {},
     "output_type": "execute_result"
    }
   ],
   "source": [
    "#DF直接匯入dict\n",
    "movie_dict = {\n",
    "    'title' : movie_titles,\n",
    "    'rating': movie_ratings,\n",
    "}\n",
    "df = pd.DataFrame(movie_dict)\n",
    "df"
   ]
  },
  {
   "cell_type": "code",
   "execution_count": 24,
   "metadata": {},
   "outputs": [
    {
     "data": {
      "text/html": [
       "<div>\n",
       "<style scoped>\n",
       "    .dataframe tbody tr th:only-of-type {\n",
       "        vertical-align: middle;\n",
       "    }\n",
       "\n",
       "    .dataframe tbody tr th {\n",
       "        vertical-align: top;\n",
       "    }\n",
       "\n",
       "    .dataframe thead th {\n",
       "        text-align: right;\n",
       "    }\n",
       "</style>\n",
       "<table border=\"1\" class=\"dataframe\">\n",
       "  <thead>\n",
       "    <tr style=\"text-align: right;\">\n",
       "      <th></th>\n",
       "      <th>title</th>\n",
       "      <th>rating</th>\n",
       "    </tr>\n",
       "  </thead>\n",
       "  <tbody>\n",
       "    <tr>\n",
       "      <th>0</th>\n",
       "      <td>The Dark Knight</td>\n",
       "      <td>9.0</td>\n",
       "    </tr>\n",
       "    <tr>\n",
       "      <th>1</th>\n",
       "      <td>Schindler's List</td>\n",
       "      <td>8.9</td>\n",
       "    </tr>\n",
       "    <tr>\n",
       "      <th>2</th>\n",
       "      <td>Forrest Gump</td>\n",
       "      <td>8.8</td>\n",
       "    </tr>\n",
       "    <tr>\n",
       "      <th>3</th>\n",
       "      <td>Inception</td>\n",
       "      <td>8.7</td>\n",
       "    </tr>\n",
       "  </tbody>\n",
       "</table>\n",
       "</div>"
      ],
      "text/plain": [
       "              title  rating\n",
       "0   The Dark Knight     9.0\n",
       "1  Schindler's List     8.9\n",
       "2      Forrest Gump     8.8\n",
       "3         Inception     8.7"
      ]
     },
     "execution_count": 24,
     "metadata": {},
     "output_type": "execute_result"
    }
   ],
   "source": [
    "#開csv檔\n",
    "df = pd.read_csv(\"https://python4ds.s3-ap-northeast-1.amazonaws.com/movies.csv\")\n",
    "df"
   ]
  },
  {
   "cell_type": "code",
   "execution_count": 25,
   "metadata": {},
   "outputs": [
    {
     "data": {
      "text/html": [
       "<div>\n",
       "<style scoped>\n",
       "    .dataframe tbody tr th:only-of-type {\n",
       "        vertical-align: middle;\n",
       "    }\n",
       "\n",
       "    .dataframe tbody tr th {\n",
       "        vertical-align: top;\n",
       "    }\n",
       "\n",
       "    .dataframe thead th {\n",
       "        text-align: right;\n",
       "    }\n",
       "</style>\n",
       "<table border=\"1\" class=\"dataframe\">\n",
       "  <thead>\n",
       "    <tr style=\"text-align: right;\">\n",
       "      <th></th>\n",
       "      <th>title</th>\n",
       "      <th>rating</th>\n",
       "    </tr>\n",
       "  </thead>\n",
       "  <tbody>\n",
       "    <tr>\n",
       "      <th>0</th>\n",
       "      <td>The Dark Knight</td>\n",
       "      <td>9.0</td>\n",
       "    </tr>\n",
       "    <tr>\n",
       "      <th>1</th>\n",
       "      <td>Schindler's List</td>\n",
       "      <td>8.9</td>\n",
       "    </tr>\n",
       "    <tr>\n",
       "      <th>2</th>\n",
       "      <td>Forrest Gump</td>\n",
       "      <td>8.8</td>\n",
       "    </tr>\n",
       "    <tr>\n",
       "      <th>3</th>\n",
       "      <td>Inception</td>\n",
       "      <td>8.7</td>\n",
       "    </tr>\n",
       "  </tbody>\n",
       "</table>\n",
       "</div>"
      ],
      "text/plain": [
       "              title  rating\n",
       "0   The Dark Knight     9.0\n",
       "1  Schindler's List     8.9\n",
       "2      Forrest Gump     8.8\n",
       "3         Inception     8.7"
      ]
     },
     "execution_count": 25,
     "metadata": {},
     "output_type": "execute_result"
    }
   ],
   "source": [
    "#json(用逗號區隔的)\n",
    "df = pd.read_json(\"https://python4ds.s3-ap-northeast-1.amazonaws.com/movies.json\")\n",
    "df"
   ]
  },
  {
   "cell_type": "code",
   "execution_count": 26,
   "metadata": {
    "scrolled": true
   },
   "outputs": [
    {
     "data": {
      "text/html": [
       "<div>\n",
       "<style scoped>\n",
       "    .dataframe tbody tr th:only-of-type {\n",
       "        vertical-align: middle;\n",
       "    }\n",
       "\n",
       "    .dataframe tbody tr th {\n",
       "        vertical-align: top;\n",
       "    }\n",
       "\n",
       "    .dataframe thead th {\n",
       "        text-align: right;\n",
       "    }\n",
       "</style>\n",
       "<table border=\"1\" class=\"dataframe\">\n",
       "  <thead>\n",
       "    <tr style=\"text-align: right;\">\n",
       "      <th></th>\n",
       "      <th>title</th>\n",
       "      <th>rating</th>\n",
       "    </tr>\n",
       "  </thead>\n",
       "  <tbody>\n",
       "    <tr>\n",
       "      <th>0</th>\n",
       "      <td>The Dark Knight</td>\n",
       "      <td>9.0</td>\n",
       "    </tr>\n",
       "    <tr>\n",
       "      <th>1</th>\n",
       "      <td>Schindler's List</td>\n",
       "      <td>8.9</td>\n",
       "    </tr>\n",
       "    <tr>\n",
       "      <th>2</th>\n",
       "      <td>Forrest Gump</td>\n",
       "      <td>8.8</td>\n",
       "    </tr>\n",
       "    <tr>\n",
       "      <th>3</th>\n",
       "      <td>Inception</td>\n",
       "      <td>8.7</td>\n",
       "    </tr>\n",
       "  </tbody>\n",
       "</table>\n",
       "</div>"
      ],
      "text/plain": [
       "              title  rating\n",
       "0   The Dark Knight     9.0\n",
       "1  Schindler's List     8.9\n",
       "2      Forrest Gump     8.8\n",
       "3         Inception     8.7"
      ]
     },
     "execution_count": 26,
     "metadata": {},
     "output_type": "execute_result"
    }
   ],
   "source": [
    "#讀excel\n",
    "df = pd.read_excel(\"https://python4ds.s3-ap-northeast-1.amazonaws.com/movies.xlsx\")\n",
    "df"
   ]
  },
  {
   "cell_type": "code",
   "execution_count": 27,
   "metadata": {},
   "outputs": [
    {
     "data": {
      "text/html": [
       "<div>\n",
       "<style scoped>\n",
       "    .dataframe tbody tr th:only-of-type {\n",
       "        vertical-align: middle;\n",
       "    }\n",
       "\n",
       "    .dataframe tbody tr th {\n",
       "        vertical-align: top;\n",
       "    }\n",
       "\n",
       "    .dataframe thead th {\n",
       "        text-align: right;\n",
       "    }\n",
       "</style>\n",
       "<table border=\"1\" class=\"dataframe\">\n",
       "  <thead>\n",
       "    <tr style=\"text-align: right;\">\n",
       "      <th></th>\n",
       "      <th>title</th>\n",
       "      <th>rating</th>\n",
       "    </tr>\n",
       "  </thead>\n",
       "  <tbody>\n",
       "    <tr>\n",
       "      <th>0</th>\n",
       "      <td>Schindler's List</td>\n",
       "      <td>8.9</td>\n",
       "    </tr>\n",
       "    <tr>\n",
       "      <th>1</th>\n",
       "      <td>Forrest Gump</td>\n",
       "      <td>8.8</td>\n",
       "    </tr>\n",
       "    <tr>\n",
       "      <th>2</th>\n",
       "      <td>Inception</td>\n",
       "      <td>8.7</td>\n",
       "    </tr>\n",
       "  </tbody>\n",
       "</table>\n",
       "</div>"
      ],
      "text/plain": [
       "              title  rating\n",
       "0  Schindler's List     8.9\n",
       "1      Forrest Gump     8.8\n",
       "2         Inception     8.7"
      ]
     },
     "execution_count": 27,
     "metadata": {},
     "output_type": "execute_result"
    }
   ],
   "source": [
    "import sqlite3\n",
    "\n",
    "# Creating a demo.db database in working directory\n",
    "conn = sqlite3.connect('demo.db') # 創建一個暫時的DB\n",
    "# Importing a table\n",
    "movie_ratings = [9.0, 8.9, 8.8, 8.7]\n",
    "movie_titles = [\"The Dark Knight\", \"Schindler's List\", \"Forrest Gump\", \"Inception\"]\n",
    "df = pd.DataFrame()\n",
    "df[\"title\"] = movie_titles\n",
    "df[\"rating\"] = movie_ratings\n",
    "df.to_sql(\"movies\", index=False, con=conn, if_exists='replace')\n",
    "# Importing data from demo.movies\n",
    "query_str = \"\"\"\n",
    "SELECT *\n",
    "    FROM movies\n",
    "    WHERE rating < 9.0;\n",
    "\"\"\"\n",
    "pd.read_sql(query_str, con=conn)\n",
    "#查詢sql資料庫"
   ]
  },
  {
   "cell_type": "code",
   "execution_count": 28,
   "metadata": {},
   "outputs": [
    {
     "name": "stdout",
     "output_type": "stream",
     "text": [
      "Schindler's List    8.9\n",
      "Forrest Gump        8.8\n",
      "Inception           8.7\n",
      "dtype: float64\n"
     ]
    }
   ],
   "source": [
    "movie_ratings = [9.0, 8.9, 8.8, 8.7]\n",
    "movie_titles = [\"The Dark Knight\", \"Schindler's List\", \"Forrest Gump\", \"Inception\"]\n",
    "ser = pd.Series(movie_ratings, index=movie_titles)\n",
    "print(ser[1:4])"
   ]
  },
  {
   "cell_type": "code",
   "execution_count": 29,
   "metadata": {},
   "outputs": [
    {
     "name": "stdout",
     "output_type": "stream",
     "text": [
      "Schindler's List    8.9\n",
      "Forrest Gump        8.8\n",
      "Inception           8.7\n",
      "dtype: float64\n"
     ]
    }
   ],
   "source": [
    "print(ser[\"Schindler's List\":\"Inception\"])"
   ]
  },
  {
   "cell_type": "code",
   "execution_count": 30,
   "metadata": {},
   "outputs": [
    {
     "name": "stdout",
     "output_type": "stream",
     "text": [
      "Schindler's List    8.9\n",
      "Forrest Gump        8.8\n",
      "Inception           8.7\n",
      "dtype: float64\n",
      "Schindler's List    8.9\n",
      "Forrest Gump        8.8\n",
      "Inception           8.7\n",
      "dtype: float64\n",
      "The Dark Knight     False\n",
      "Schindler's List     True\n",
      "Forrest Gump         True\n",
      "Inception            True\n",
      "dtype: bool\n",
      "Schindler's List    8.9\n",
      "Forrest Gump        8.8\n",
      "Inception           8.7\n",
      "dtype: float64\n"
     ]
    }
   ],
   "source": [
    "movie_ratings = [9.0, 8.9, 8.8, 8.7]\n",
    "movie_titles = [\"The Dark Knight\", \"Schindler's List\", \"Forrest Gump\", \"Inception\"]\n",
    "ser = pd.Series(movie_ratings, index=movie_titles)\n",
    "# Fancy indexing\n",
    "print(ser[[1, 2, 3]])\n",
    "print(ser[[\"Schindler's List\", \"Forrest Gump\", \"Inception\"]])\n",
    "# Boolean indexing\n",
    "print(ser < 9)\n",
    "print(ser[ser < 9]) #挑出小於9分的"
   ]
  },
  {
   "cell_type": "code",
   "execution_count": 31,
   "metadata": {},
   "outputs": [
    {
     "name": "stdout",
     "output_type": "stream",
     "text": [
      "0     The Dark Knight\n",
      "1    Schindler's List\n",
      "2        Forrest Gump\n",
      "3           Inception\n",
      "Name: title, dtype: object\n",
      "0    9.0\n",
      "1    8.9\n",
      "2    8.8\n",
      "3    8.7\n",
      "Name: rating, dtype: float64\n"
     ]
    },
    {
     "data": {
      "text/html": [
       "<div>\n",
       "<style scoped>\n",
       "    .dataframe tbody tr th:only-of-type {\n",
       "        vertical-align: middle;\n",
       "    }\n",
       "\n",
       "    .dataframe tbody tr th {\n",
       "        vertical-align: top;\n",
       "    }\n",
       "\n",
       "    .dataframe thead th {\n",
       "        text-align: right;\n",
       "    }\n",
       "</style>\n",
       "<table border=\"1\" class=\"dataframe\">\n",
       "  <thead>\n",
       "    <tr style=\"text-align: right;\">\n",
       "      <th></th>\n",
       "      <th>title</th>\n",
       "      <th>release_year</th>\n",
       "    </tr>\n",
       "  </thead>\n",
       "  <tbody>\n",
       "    <tr>\n",
       "      <th>0</th>\n",
       "      <td>The Dark Knight</td>\n",
       "      <td>2008</td>\n",
       "    </tr>\n",
       "    <tr>\n",
       "      <th>1</th>\n",
       "      <td>Schindler's List</td>\n",
       "      <td>1993</td>\n",
       "    </tr>\n",
       "    <tr>\n",
       "      <th>2</th>\n",
       "      <td>Forrest Gump</td>\n",
       "      <td>1994</td>\n",
       "    </tr>\n",
       "    <tr>\n",
       "      <th>3</th>\n",
       "      <td>Inception</td>\n",
       "      <td>2010</td>\n",
       "    </tr>\n",
       "  </tbody>\n",
       "</table>\n",
       "</div>"
      ],
      "text/plain": [
       "              title  release_year\n",
       "0   The Dark Knight          2008\n",
       "1  Schindler's List          1993\n",
       "2      Forrest Gump          1994\n",
       "3         Inception          2010"
      ]
     },
     "execution_count": 31,
     "metadata": {},
     "output_type": "execute_result"
    }
   ],
   "source": [
    "movie_ratings = [9.0, 8.9, 8.8, 8.7]\n",
    "movie_titles = [\"The Dark Knight\", \"Schindler's List\", \"Forrest Gump\", \"Inception\"]\n",
    "release_years = [2008, 1993, 1994, 2010]\n",
    "df = pd.DataFrame()\n",
    "df[\"title\"] = movie_titles\n",
    "df[\"rating\"] = movie_ratings\n",
    "df[\"release_year\"] = release_years\n",
    "print(df[\"title\"]) #呼叫欄位方式1\n",
    "print(df.rating) #呼叫欄位方式2\n",
    "df[[\"title\", \"release_year\"]] # 看想選哪些欄位出來"
   ]
  },
  {
   "cell_type": "code",
   "execution_count": 32,
   "metadata": {},
   "outputs": [
    {
     "data": {
      "text/html": [
       "<div>\n",
       "<style scoped>\n",
       "    .dataframe tbody tr th:only-of-type {\n",
       "        vertical-align: middle;\n",
       "    }\n",
       "\n",
       "    .dataframe tbody tr th {\n",
       "        vertical-align: top;\n",
       "    }\n",
       "\n",
       "    .dataframe thead th {\n",
       "        text-align: right;\n",
       "    }\n",
       "</style>\n",
       "<table border=\"1\" class=\"dataframe\">\n",
       "  <thead>\n",
       "    <tr style=\"text-align: right;\">\n",
       "      <th></th>\n",
       "      <th>rating</th>\n",
       "      <th>release_year</th>\n",
       "    </tr>\n",
       "  </thead>\n",
       "  <tbody>\n",
       "    <tr>\n",
       "      <th>The Dark Knight</th>\n",
       "      <td>9.0</td>\n",
       "      <td>2008</td>\n",
       "    </tr>\n",
       "    <tr>\n",
       "      <th>Schindler's List</th>\n",
       "      <td>8.9</td>\n",
       "      <td>1993</td>\n",
       "    </tr>\n",
       "    <tr>\n",
       "      <th>Forrest Gump</th>\n",
       "      <td>8.8</td>\n",
       "      <td>1994</td>\n",
       "    </tr>\n",
       "    <tr>\n",
       "      <th>Inception</th>\n",
       "      <td>8.7</td>\n",
       "      <td>2010</td>\n",
       "    </tr>\n",
       "  </tbody>\n",
       "</table>\n",
       "</div>"
      ],
      "text/plain": [
       "                  rating  release_year\n",
       "The Dark Knight      9.0          2008\n",
       "Schindler's List     8.9          1993\n",
       "Forrest Gump         8.8          1994\n",
       "Inception            8.7          2010"
      ]
     },
     "execution_count": 32,
     "metadata": {},
     "output_type": "execute_result"
    }
   ],
   "source": [
    "df = pd.DataFrame()\n",
    "df[\"rating\"] = movie_ratings\n",
    "df[\"release_year\"] = release_years\n",
    "df.index = movie_titles\n",
    "df"
   ]
  },
  {
   "cell_type": "code",
   "execution_count": 33,
   "metadata": {},
   "outputs": [
    {
     "data": {
      "text/html": [
       "<div>\n",
       "<style scoped>\n",
       "    .dataframe tbody tr th:only-of-type {\n",
       "        vertical-align: middle;\n",
       "    }\n",
       "\n",
       "    .dataframe tbody tr th {\n",
       "        vertical-align: top;\n",
       "    }\n",
       "\n",
       "    .dataframe thead th {\n",
       "        text-align: right;\n",
       "    }\n",
       "</style>\n",
       "<table border=\"1\" class=\"dataframe\">\n",
       "  <thead>\n",
       "    <tr style=\"text-align: right;\">\n",
       "      <th></th>\n",
       "      <th>rating</th>\n",
       "      <th>release_year</th>\n",
       "    </tr>\n",
       "  </thead>\n",
       "  <tbody>\n",
       "    <tr>\n",
       "      <th>The Dark Knight</th>\n",
       "      <td>9.0</td>\n",
       "      <td>2008</td>\n",
       "    </tr>\n",
       "    <tr>\n",
       "      <th>Inception</th>\n",
       "      <td>8.7</td>\n",
       "      <td>2010</td>\n",
       "    </tr>\n",
       "  </tbody>\n",
       "</table>\n",
       "</div>"
      ],
      "text/plain": [
       "                 rating  release_year\n",
       "The Dark Knight     9.0          2008\n",
       "Inception           8.7          2010"
      ]
     },
     "execution_count": 33,
     "metadata": {},
     "output_type": "execute_result"
    }
   ],
   "source": [
    "df = pd.DataFrame()\n",
    "df[\"rating\"] = movie_ratings\n",
    "df[\"release_year\"] = release_years\n",
    "df.index = movie_titles\n",
    "df.loc[[\"The Dark Knight\", \"Inception\"], [\"rating\", \"release_year\"]]"
   ]
  },
  {
   "cell_type": "code",
   "execution_count": 34,
   "metadata": {},
   "outputs": [
    {
     "data": {
      "text/plain": [
       "9.0"
      ]
     },
     "execution_count": 34,
     "metadata": {},
     "output_type": "execute_result"
    }
   ],
   "source": [
    "df.loc['The Dark Knight','rating']"
   ]
  },
  {
   "cell_type": "code",
   "execution_count": 35,
   "metadata": {},
   "outputs": [
    {
     "data": {
      "text/html": [
       "<div>\n",
       "<style scoped>\n",
       "    .dataframe tbody tr th:only-of-type {\n",
       "        vertical-align: middle;\n",
       "    }\n",
       "\n",
       "    .dataframe tbody tr th {\n",
       "        vertical-align: top;\n",
       "    }\n",
       "\n",
       "    .dataframe thead th {\n",
       "        text-align: right;\n",
       "    }\n",
       "</style>\n",
       "<table border=\"1\" class=\"dataframe\">\n",
       "  <thead>\n",
       "    <tr style=\"text-align: right;\">\n",
       "      <th></th>\n",
       "      <th>rating</th>\n",
       "      <th>release_year</th>\n",
       "    </tr>\n",
       "  </thead>\n",
       "  <tbody>\n",
       "    <tr>\n",
       "      <th>The Dark Knight</th>\n",
       "      <td>9.0</td>\n",
       "      <td>2008</td>\n",
       "    </tr>\n",
       "    <tr>\n",
       "      <th>Inception</th>\n",
       "      <td>8.7</td>\n",
       "      <td>2010</td>\n",
       "    </tr>\n",
       "  </tbody>\n",
       "</table>\n",
       "</div>"
      ],
      "text/plain": [
       "                 rating  release_year\n",
       "The Dark Knight     9.0          2008\n",
       "Inception           8.7          2010"
      ]
     },
     "execution_count": 35,
     "metadata": {},
     "output_type": "execute_result"
    }
   ],
   "source": [
    "df[\"rating\"] = movie_ratings\n",
    "df[\"release_year\"] = release_years\n",
    "df.index = movie_titles\n",
    "df.iloc[[0, 3], [0, 1]] #用坐標軸來看\n",
    "#df.iloc[[0, 3], :]  欄全選,效果同上一行 "
   ]
  },
  {
   "cell_type": "code",
   "execution_count": 36,
   "metadata": {},
   "outputs": [
    {
     "data": {
      "text/plain": [
       "9.0"
      ]
     },
     "execution_count": 36,
     "metadata": {},
     "output_type": "execute_result"
    }
   ],
   "source": [
    "df.iloc[0,0]"
   ]
  },
  {
   "cell_type": "code",
   "execution_count": 39,
   "metadata": {},
   "outputs": [
    {
     "data": {
      "text/html": [
       "<div>\n",
       "<style scoped>\n",
       "    .dataframe tbody tr th:only-of-type {\n",
       "        vertical-align: middle;\n",
       "    }\n",
       "\n",
       "    .dataframe tbody tr th {\n",
       "        vertical-align: top;\n",
       "    }\n",
       "\n",
       "    .dataframe thead th {\n",
       "        text-align: right;\n",
       "    }\n",
       "</style>\n",
       "<table border=\"1\" class=\"dataframe\">\n",
       "  <thead>\n",
       "    <tr style=\"text-align: right;\">\n",
       "      <th></th>\n",
       "      <th>title</th>\n",
       "      <th>rating</th>\n",
       "      <th>release_year</th>\n",
       "    </tr>\n",
       "  </thead>\n",
       "  <tbody>\n",
       "    <tr>\n",
       "      <th>3</th>\n",
       "      <td>Inception</td>\n",
       "      <td>8.7</td>\n",
       "      <td>2010</td>\n",
       "    </tr>\n",
       "    <tr>\n",
       "      <th>2</th>\n",
       "      <td>Forrest Gump</td>\n",
       "      <td>8.8</td>\n",
       "      <td>1994</td>\n",
       "    </tr>\n",
       "    <tr>\n",
       "      <th>1</th>\n",
       "      <td>Schindler's List</td>\n",
       "      <td>8.9</td>\n",
       "      <td>1993</td>\n",
       "    </tr>\n",
       "    <tr>\n",
       "      <th>0</th>\n",
       "      <td>The Dark Knight</td>\n",
       "      <td>9.0</td>\n",
       "      <td>2008</td>\n",
       "    </tr>\n",
       "  </tbody>\n",
       "</table>\n",
       "</div>"
      ],
      "text/plain": [
       "              title  rating  release_year\n",
       "3         Inception     8.7          2010\n",
       "2      Forrest Gump     8.8          1994\n",
       "1  Schindler's List     8.9          1993\n",
       "0   The Dark Knight     9.0          2008"
      ]
     },
     "execution_count": 39,
     "metadata": {},
     "output_type": "execute_result"
    }
   ],
   "source": [
    "movie_ratings = [9.0, 8.9, 8.8, 8.7]\n",
    "movie_titles = [\"The Dark Knight\", \"Schindler's List\", \"Forrest Gump\", \"Inception\"]\n",
    "release_years = [2008, 1993, 1994, 2010]\n",
    "df = pd.DataFrame()\n",
    "df[\"title\"] = movie_titles\n",
    "df[\"rating\"] = movie_ratings\n",
    "df[\"release_year\"] = release_years\n",
    "df.sort_index(ascending=False) # default: ascending"
   ]
  },
  {
   "cell_type": "code",
   "execution_count": 42,
   "metadata": {},
   "outputs": [
    {
     "data": {
      "text/html": [
       "<div>\n",
       "<style scoped>\n",
       "    .dataframe tbody tr th:only-of-type {\n",
       "        vertical-align: middle;\n",
       "    }\n",
       "\n",
       "    .dataframe tbody tr th {\n",
       "        vertical-align: top;\n",
       "    }\n",
       "\n",
       "    .dataframe thead th {\n",
       "        text-align: right;\n",
       "    }\n",
       "</style>\n",
       "<table border=\"1\" class=\"dataframe\">\n",
       "  <thead>\n",
       "    <tr style=\"text-align: right;\">\n",
       "      <th></th>\n",
       "      <th>title</th>\n",
       "      <th>rating</th>\n",
       "      <th>release_year</th>\n",
       "    </tr>\n",
       "  </thead>\n",
       "  <tbody>\n",
       "    <tr>\n",
       "      <th>3</th>\n",
       "      <td>Inception</td>\n",
       "      <td>8.7</td>\n",
       "      <td>2010</td>\n",
       "    </tr>\n",
       "    <tr>\n",
       "      <th>0</th>\n",
       "      <td>The Dark Knight</td>\n",
       "      <td>9.0</td>\n",
       "      <td>2008</td>\n",
       "    </tr>\n",
       "    <tr>\n",
       "      <th>2</th>\n",
       "      <td>Forrest Gump</td>\n",
       "      <td>8.8</td>\n",
       "      <td>1994</td>\n",
       "    </tr>\n",
       "    <tr>\n",
       "      <th>1</th>\n",
       "      <td>Schindler's List</td>\n",
       "      <td>8.9</td>\n",
       "      <td>1993</td>\n",
       "    </tr>\n",
       "  </tbody>\n",
       "</table>\n",
       "</div>"
      ],
      "text/plain": [
       "              title  rating  release_year\n",
       "3         Inception     8.7          2010\n",
       "0   The Dark Knight     9.0          2008\n",
       "2      Forrest Gump     8.8          1994\n",
       "1  Schindler's List     8.9          1993"
      ]
     },
     "execution_count": 42,
     "metadata": {},
     "output_type": "execute_result"
    }
   ],
   "source": [
    "df.sort_values('release_year' , ascending = False)"
   ]
  },
  {
   "cell_type": "code",
   "execution_count": 56,
   "metadata": {},
   "outputs": [
    {
     "data": {
      "text/html": [
       "<div>\n",
       "<style scoped>\n",
       "    .dataframe tbody tr th:only-of-type {\n",
       "        vertical-align: middle;\n",
       "    }\n",
       "\n",
       "    .dataframe tbody tr th {\n",
       "        vertical-align: top;\n",
       "    }\n",
       "\n",
       "    .dataframe thead th {\n",
       "        text-align: right;\n",
       "    }\n",
       "</style>\n",
       "<table border=\"1\" class=\"dataframe\">\n",
       "  <thead>\n",
       "    <tr style=\"text-align: right;\">\n",
       "      <th></th>\n",
       "      <th>collegeName</th>\n",
       "      <th>country</th>\n",
       "      <th>dateOfBirthUTC</th>\n",
       "      <th>firstName</th>\n",
       "      <th>heightFeet</th>\n",
       "      <th>heightInches</th>\n",
       "      <th>heightMeters</th>\n",
       "      <th>isActive</th>\n",
       "      <th>jersey</th>\n",
       "      <th>lastAffiliation</th>\n",
       "      <th>lastName</th>\n",
       "      <th>nbaDebutYear</th>\n",
       "      <th>personId</th>\n",
       "      <th>pos</th>\n",
       "      <th>teamId</th>\n",
       "      <th>temporaryDisplayName</th>\n",
       "      <th>weightKilograms</th>\n",
       "      <th>weightPounds</th>\n",
       "      <th>yearsPro</th>\n",
       "    </tr>\n",
       "  </thead>\n",
       "  <tbody>\n",
       "    <tr>\n",
       "      <th>0</th>\n",
       "      <td>Pittsburgh</td>\n",
       "      <td>New Zealand</td>\n",
       "      <td>1993-07-20</td>\n",
       "      <td>Steven</td>\n",
       "      <td>7</td>\n",
       "      <td>0</td>\n",
       "      <td>2.13</td>\n",
       "      <td>1</td>\n",
       "      <td>12.0</td>\n",
       "      <td>Pittsburgh/New Zealand</td>\n",
       "      <td>Adams</td>\n",
       "      <td>2013.0</td>\n",
       "      <td>203500</td>\n",
       "      <td>C</td>\n",
       "      <td>1610612760</td>\n",
       "      <td>Adams, Steven</td>\n",
       "      <td>120.2</td>\n",
       "      <td>265.0</td>\n",
       "      <td>6.0</td>\n",
       "    </tr>\n",
       "    <tr>\n",
       "      <th>1</th>\n",
       "      <td>Kentucky</td>\n",
       "      <td>USA</td>\n",
       "      <td>1997-07-18</td>\n",
       "      <td>Bam</td>\n",
       "      <td>6</td>\n",
       "      <td>10</td>\n",
       "      <td>2.08</td>\n",
       "      <td>1</td>\n",
       "      <td>13.0</td>\n",
       "      <td>Kentucky/USA</td>\n",
       "      <td>Adebayo</td>\n",
       "      <td>2017.0</td>\n",
       "      <td>1628389</td>\n",
       "      <td>C-F</td>\n",
       "      <td>1610612748</td>\n",
       "      <td>Adebayo, Bam</td>\n",
       "      <td>115.7</td>\n",
       "      <td>255.0</td>\n",
       "      <td>2.0</td>\n",
       "    </tr>\n",
       "    <tr>\n",
       "      <th>2</th>\n",
       "      <td>University of Louisville</td>\n",
       "      <td>South Sudan</td>\n",
       "      <td>1997-02-01</td>\n",
       "      <td>Deng</td>\n",
       "      <td>6</td>\n",
       "      <td>7</td>\n",
       "      <td>2.01</td>\n",
       "      <td>1</td>\n",
       "      <td>NaN</td>\n",
       "      <td>South Sudan/South Sudan</td>\n",
       "      <td>Adel</td>\n",
       "      <td>2018.0</td>\n",
       "      <td>1629061</td>\n",
       "      <td>F</td>\n",
       "      <td>1610612751</td>\n",
       "      <td>Adel, Deng</td>\n",
       "      <td>90.7</td>\n",
       "      <td>200.0</td>\n",
       "      <td>1.0</td>\n",
       "    </tr>\n",
       "    <tr>\n",
       "      <th>3</th>\n",
       "      <td>Texas</td>\n",
       "      <td>USA</td>\n",
       "      <td>1985-07-19</td>\n",
       "      <td>LaMarcus</td>\n",
       "      <td>6</td>\n",
       "      <td>11</td>\n",
       "      <td>2.11</td>\n",
       "      <td>1</td>\n",
       "      <td>12.0</td>\n",
       "      <td>Texas/USA</td>\n",
       "      <td>Aldridge</td>\n",
       "      <td>2006.0</td>\n",
       "      <td>200746</td>\n",
       "      <td>C-F</td>\n",
       "      <td>1610612759</td>\n",
       "      <td>Aldridge, LaMarcus</td>\n",
       "      <td>117.9</td>\n",
       "      <td>260.0</td>\n",
       "      <td>13.0</td>\n",
       "    </tr>\n",
       "    <tr>\n",
       "      <th>4</th>\n",
       "      <td>Tennessee</td>\n",
       "      <td>Canada</td>\n",
       "      <td>1996-10-21</td>\n",
       "      <td>Kyle</td>\n",
       "      <td>6</td>\n",
       "      <td>11</td>\n",
       "      <td>2.11</td>\n",
       "      <td>1</td>\n",
       "      <td>NaN</td>\n",
       "      <td>Tennessee/Canada</td>\n",
       "      <td>Alexander</td>\n",
       "      <td>NaN</td>\n",
       "      <td>1629734</td>\n",
       "      <td>F</td>\n",
       "      <td>1610612748</td>\n",
       "      <td>Alexander, Kyle</td>\n",
       "      <td>99.8</td>\n",
       "      <td>220.0</td>\n",
       "      <td>0.0</td>\n",
       "    </tr>\n",
       "  </tbody>\n",
       "</table>\n",
       "</div>"
      ],
      "text/plain": [
       "                collegeName      country dateOfBirthUTC firstName heightFeet  \\\n",
       "0                Pittsburgh  New Zealand     1993-07-20    Steven          7   \n",
       "1                  Kentucky          USA     1997-07-18       Bam          6   \n",
       "2  University of Louisville  South Sudan     1997-02-01      Deng          6   \n",
       "3                     Texas          USA     1985-07-19  LaMarcus          6   \n",
       "4                 Tennessee       Canada     1996-10-21      Kyle          6   \n",
       "\n",
       "  heightInches  heightMeters  isActive  jersey           lastAffiliation  \\\n",
       "0            0          2.13         1    12.0    Pittsburgh/New Zealand   \n",
       "1           10          2.08         1    13.0              Kentucky/USA   \n",
       "2            7          2.01         1     NaN   South Sudan/South Sudan   \n",
       "3           11          2.11         1    12.0                 Texas/USA   \n",
       "4           11          2.11         1     NaN          Tennessee/Canada   \n",
       "\n",
       "    lastName  nbaDebutYear  personId  pos      teamId temporaryDisplayName  \\\n",
       "0      Adams        2013.0    203500    C  1610612760        Adams, Steven   \n",
       "1    Adebayo        2017.0   1628389  C-F  1610612748         Adebayo, Bam   \n",
       "2       Adel        2018.0   1629061    F  1610612751           Adel, Deng   \n",
       "3   Aldridge        2006.0    200746  C-F  1610612759   Aldridge, LaMarcus   \n",
       "4  Alexander           NaN   1629734    F  1610612748      Alexander, Kyle   \n",
       "\n",
       "   weightKilograms  weightPounds  yearsPro  \n",
       "0            120.2         265.0       6.0  \n",
       "1            115.7         255.0       2.0  \n",
       "2             90.7         200.0       1.0  \n",
       "3            117.9         260.0      13.0  \n",
       "4             99.8         220.0       0.0  "
      ]
     },
     "execution_count": 56,
     "metadata": {},
     "output_type": "execute_result"
    }
   ],
   "source": [
    "# 讀取csv然後計算bmi\n",
    "player_profile = pd.read_csv(\"https://python4ds.s3-ap-northeast-1.amazonaws.com/player_profile.csv\")\n",
    "player_profile.head(5)"
   ]
  },
  {
   "cell_type": "code",
   "execution_count": 47,
   "metadata": {},
   "outputs": [
    {
     "data": {
      "text/html": [
       "<div>\n",
       "<style scoped>\n",
       "    .dataframe tbody tr th:only-of-type {\n",
       "        vertical-align: middle;\n",
       "    }\n",
       "\n",
       "    .dataframe tbody tr th {\n",
       "        vertical-align: top;\n",
       "    }\n",
       "\n",
       "    .dataframe thead th {\n",
       "        text-align: right;\n",
       "    }\n",
       "</style>\n",
       "<table border=\"1\" class=\"dataframe\">\n",
       "  <thead>\n",
       "    <tr style=\"text-align: right;\">\n",
       "      <th></th>\n",
       "      <th>temporaryDisplayName</th>\n",
       "      <th>bmi</th>\n",
       "    </tr>\n",
       "  </thead>\n",
       "  <tbody>\n",
       "    <tr>\n",
       "      <th>0</th>\n",
       "      <td>Adams, Steven</td>\n",
       "      <td>26.493861</td>\n",
       "    </tr>\n",
       "    <tr>\n",
       "      <th>1</th>\n",
       "      <td>Adebayo, Bam</td>\n",
       "      <td>26.742788</td>\n",
       "    </tr>\n",
       "    <tr>\n",
       "      <th>2</th>\n",
       "      <td>Adel, Deng</td>\n",
       "      <td>22.449939</td>\n",
       "    </tr>\n",
       "    <tr>\n",
       "      <th>3</th>\n",
       "      <td>Aldridge, LaMarcus</td>\n",
       "      <td>26.481885</td>\n",
       "    </tr>\n",
       "    <tr>\n",
       "      <th>4</th>\n",
       "      <td>Alexander, Kyle</td>\n",
       "      <td>22.416388</td>\n",
       "    </tr>\n",
       "  </tbody>\n",
       "</table>\n",
       "</div>"
      ],
      "text/plain": [
       "  temporaryDisplayName        bmi\n",
       "0        Adams, Steven  26.493861\n",
       "1         Adebayo, Bam  26.742788\n",
       "2           Adel, Deng  22.449939\n",
       "3   Aldridge, LaMarcus  26.481885\n",
       "4      Alexander, Kyle  22.416388"
      ]
     },
     "execution_count": 47,
     "metadata": {},
     "output_type": "execute_result"
    }
   ],
   "source": [
    "player_profile[\"bmi\"] = player_profile[\"weightKilograms\"] / player_profile[\"heightMeters\"]**2\n",
    "# 衍生變數,原本沒有的\n",
    "player_profile[[\"temporaryDisplayName\", \"bmi\"]].head()"
   ]
  },
  {
   "cell_type": "code",
   "execution_count": 49,
   "metadata": {},
   "outputs": [
    {
     "data": {
      "text/plain": [
       "G      200\n",
       "F      186\n",
       "C       51\n",
       "G-F     39\n",
       "F-C     20\n",
       "F-G     15\n",
       "C-F     13\n",
       "Name: pos, dtype: int64"
      ]
     },
     "execution_count": 49,
     "metadata": {},
     "output_type": "execute_result"
    }
   ],
   "source": [
    "player_profile['pos'].value_counts()"
   ]
  },
  {
   "cell_type": "code",
   "execution_count": 50,
   "metadata": {},
   "outputs": [],
   "source": [
    "pos_dict = {\n",
    "    \"G\": \"Backcourt\",\n",
    "    \"F\": \"Frontcourt\",\n",
    "    \"C\": \"Frontcourt\",\n",
    "    \"G-F\": \"Backcourt\",\n",
    "    \"F-C\": \"Frontcourt\",\n",
    "    \"F-G\": \"Frontcourt\",\n",
    "    \"C-F\": \"Frontcourt\"\n",
    "}"
   ]
  },
  {
   "cell_type": "code",
   "execution_count": 51,
   "metadata": {},
   "outputs": [
    {
     "name": "stdout",
     "output_type": "stream",
     "text": [
      "Pos before mapping:\n"
     ]
    },
    {
     "data": {
      "text/plain": [
       "G      200\n",
       "F      186\n",
       "C       51\n",
       "G-F     39\n",
       "F-C     20\n",
       "F-G     15\n",
       "C-F     13\n",
       "Name: pos, dtype: int64"
      ]
     },
     "execution_count": 51,
     "metadata": {},
     "output_type": "execute_result"
    }
   ],
   "source": [
    "player_profile = pd.read_csv(\"https://python4ds.s3-ap-northeast-1.amazonaws.com/player_profile.csv\")\n",
    "print(\"Pos before mapping:\")\n",
    "player_profile[\"pos\"].value_counts()"
   ]
  },
  {
   "cell_type": "code",
   "execution_count": 52,
   "metadata": {},
   "outputs": [
    {
     "name": "stdout",
     "output_type": "stream",
     "text": [
      "Pos after mapping:\n"
     ]
    },
    {
     "data": {
      "text/plain": [
       "Frontcourt    285\n",
       "Backcourt     239\n",
       "Name: pos_recoded, dtype: int64"
      ]
     },
     "execution_count": 52,
     "metadata": {},
     "output_type": "execute_result"
    }
   ],
   "source": [
    "# 類別對應類別\n",
    "print(\"Pos after mapping:\")\n",
    "player_profile[\"pos_recoded\"] = player_profile[\"pos\"].map(pos_dict)\n",
    "player_profile[\"pos_recoded\"].value_counts()"
   ]
  },
  {
   "cell_type": "code",
   "execution_count": 58,
   "metadata": {},
   "outputs": [
    {
     "data": {
      "text/html": [
       "<div>\n",
       "<style scoped>\n",
       "    .dataframe tbody tr th:only-of-type {\n",
       "        vertical-align: middle;\n",
       "    }\n",
       "\n",
       "    .dataframe tbody tr th {\n",
       "        vertical-align: top;\n",
       "    }\n",
       "\n",
       "    .dataframe thead th {\n",
       "        text-align: right;\n",
       "    }\n",
       "</style>\n",
       "<table border=\"1\" class=\"dataframe\">\n",
       "  <thead>\n",
       "    <tr style=\"text-align: right;\">\n",
       "      <th></th>\n",
       "      <th>temporaryDisplayName</th>\n",
       "      <th>heightMeters</th>\n",
       "      <th>heightCategory</th>\n",
       "    </tr>\n",
       "  </thead>\n",
       "  <tbody>\n",
       "    <tr>\n",
       "      <th>0</th>\n",
       "      <td>Adams, Steven</td>\n",
       "      <td>2.13</td>\n",
       "      <td>&gt; 2m</td>\n",
       "    </tr>\n",
       "    <tr>\n",
       "      <th>1</th>\n",
       "      <td>Adebayo, Bam</td>\n",
       "      <td>2.08</td>\n",
       "      <td>&gt; 2m</td>\n",
       "    </tr>\n",
       "    <tr>\n",
       "      <th>2</th>\n",
       "      <td>Adel, Deng</td>\n",
       "      <td>2.01</td>\n",
       "      <td>&gt; 2m</td>\n",
       "    </tr>\n",
       "    <tr>\n",
       "      <th>3</th>\n",
       "      <td>Aldridge, LaMarcus</td>\n",
       "      <td>2.11</td>\n",
       "      <td>&gt; 2m</td>\n",
       "    </tr>\n",
       "    <tr>\n",
       "      <th>4</th>\n",
       "      <td>Alexander, Kyle</td>\n",
       "      <td>2.11</td>\n",
       "      <td>&gt; 2m</td>\n",
       "    </tr>\n",
       "    <tr>\n",
       "      <th>5</th>\n",
       "      <td>Alexander-Walker, Nickeil</td>\n",
       "      <td>1.96</td>\n",
       "      <td>&lt;= 2m</td>\n",
       "    </tr>\n",
       "    <tr>\n",
       "      <th>6</th>\n",
       "      <td>Allen, Grayson</td>\n",
       "      <td>1.96</td>\n",
       "      <td>&lt;= 2m</td>\n",
       "    </tr>\n",
       "    <tr>\n",
       "      <th>7</th>\n",
       "      <td>Allen, Jarrett</td>\n",
       "      <td>2.11</td>\n",
       "      <td>&gt; 2m</td>\n",
       "    </tr>\n",
       "    <tr>\n",
       "      <th>8</th>\n",
       "      <td>Allen, Kadeem</td>\n",
       "      <td>1.90</td>\n",
       "      <td>&lt;= 2m</td>\n",
       "    </tr>\n",
       "    <tr>\n",
       "      <th>9</th>\n",
       "      <td>Aminu, Al-Farouq</td>\n",
       "      <td>2.06</td>\n",
       "      <td>&gt; 2m</td>\n",
       "    </tr>\n",
       "  </tbody>\n",
       "</table>\n",
       "</div>"
      ],
      "text/plain": [
       "        temporaryDisplayName  heightMeters heightCategory\n",
       "0              Adams, Steven          2.13           > 2m\n",
       "1               Adebayo, Bam          2.08           > 2m\n",
       "2                 Adel, Deng          2.01           > 2m\n",
       "3         Aldridge, LaMarcus          2.11           > 2m\n",
       "4            Alexander, Kyle          2.11           > 2m\n",
       "5  Alexander-Walker, Nickeil          1.96          <= 2m\n",
       "6             Allen, Grayson          1.96          <= 2m\n",
       "7             Allen, Jarrett          2.11           > 2m\n",
       "8              Allen, Kadeem          1.90          <= 2m\n",
       "9           Aminu, Al-Farouq          2.06           > 2m"
      ]
     },
     "execution_count": 58,
     "metadata": {},
     "output_type": "execute_result"
    }
   ],
   "source": [
    "#數值對應類別\n",
    "import numpy as np\n",
    "\n",
    "player_profile = pd.read_csv(\"https://python4ds.s3-ap-northeast-1.amazonaws.com/player_profile.csv\")\n",
    "#cut成三個切點,一個是0~2之間,一個是2~無限大(np.Inf),3個切點就能分成兩類\n",
    "player_profile[\"heightCategory\"] = pd.cut(player_profile[\"heightMeters\"], [0, 2, np.Inf], labels=[\"<= 2m\", \"> 2m\"])\n",
    "player_profile[[\"temporaryDisplayName\", \"heightMeters\", \"heightCategory\"]].head(10)"
   ]
  },
  {
   "cell_type": "code",
   "execution_count": 60,
   "metadata": {},
   "outputs": [
    {
     "name": "stdout",
     "output_type": "stream",
     "text": [
      "Pos before applying:\n"
     ]
    },
    {
     "data": {
      "text/plain": [
       "G      200\n",
       "F      186\n",
       "C       51\n",
       "G-F     39\n",
       "F-C     20\n",
       "F-G     15\n",
       "C-F     13\n",
       "Name: pos, dtype: int64"
      ]
     },
     "execution_count": 60,
     "metadata": {},
     "output_type": "execute_result"
    }
   ],
   "source": [
    "#函數映射\n",
    "#開頭第一個字是G,就改成G 以此類推,簡化分類\n",
    "def recode_pos(x):\n",
    "    if x[0] == 'G':\n",
    "        return 'G'\n",
    "    elif x[0] == 'F':\n",
    "        return 'F'\n",
    "    elif x[0] == 'C':\n",
    "        return 'C'\n",
    "\n",
    "player_profile = pd.read_csv(\"https://python4ds.s3-ap-northeast-1.amazonaws.com/player_profile.csv\")\n",
    "player_profile[\"pos_recoded\"] = player_profile[\"pos\"].apply(recode_pos)\n",
    "print(\"Pos before applying:\")\n",
    "player_profile[\"pos\"].value_counts()"
   ]
  },
  {
   "cell_type": "code",
   "execution_count": 63,
   "metadata": {},
   "outputs": [
    {
     "name": "stdout",
     "output_type": "stream",
     "text": [
      "Pos after applying\n"
     ]
    },
    {
     "data": {
      "text/plain": [
       "G    239\n",
       "F    221\n",
       "C     64\n",
       "Name: pos_recoded, dtype: int64"
      ]
     },
     "execution_count": 63,
     "metadata": {},
     "output_type": "execute_result"
    }
   ],
   "source": [
    "print(\"Pos after applying\")\n",
    "player_profile[\"pos_recoded\"].value_counts()"
   ]
  },
  {
   "cell_type": "code",
   "execution_count": 65,
   "metadata": {},
   "outputs": [
    {
     "data": {
      "text/html": [
       "<div>\n",
       "<style scoped>\n",
       "    .dataframe tbody tr th:only-of-type {\n",
       "        vertical-align: middle;\n",
       "    }\n",
       "\n",
       "    .dataframe tbody tr th {\n",
       "        vertical-align: top;\n",
       "    }\n",
       "\n",
       "    .dataframe thead th {\n",
       "        text-align: right;\n",
       "    }\n",
       "</style>\n",
       "<table border=\"1\" class=\"dataframe\">\n",
       "  <thead>\n",
       "    <tr style=\"text-align: right;\">\n",
       "      <th></th>\n",
       "      <th>title</th>\n",
       "      <th>rating</th>\n",
       "      <th>release_year</th>\n",
       "    </tr>\n",
       "  </thead>\n",
       "  <tbody>\n",
       "    <tr>\n",
       "      <th>0</th>\n",
       "      <td>The Dark Knight</td>\n",
       "      <td>9.0</td>\n",
       "      <td>2008</td>\n",
       "    </tr>\n",
       "    <tr>\n",
       "      <th>1</th>\n",
       "      <td>Schindler's List</td>\n",
       "      <td>8.9</td>\n",
       "      <td>1993</td>\n",
       "    </tr>\n",
       "    <tr>\n",
       "      <th>2</th>\n",
       "      <td>Forrest Gump</td>\n",
       "      <td>8.8</td>\n",
       "      <td>1994</td>\n",
       "    </tr>\n",
       "    <tr>\n",
       "      <th>3</th>\n",
       "      <td>Inception</td>\n",
       "      <td>8.7</td>\n",
       "      <td>2010</td>\n",
       "    </tr>\n",
       "  </tbody>\n",
       "</table>\n",
       "</div>"
      ],
      "text/plain": [
       "              title  rating  release_year\n",
       "0   The Dark Knight     9.0          2008\n",
       "1  Schindler's List     8.9          1993\n",
       "2      Forrest Gump     8.8          1994\n",
       "3         Inception     8.7          2010"
      ]
     },
     "execution_count": 65,
     "metadata": {},
     "output_type": "execute_result"
    }
   ],
   "source": [
    "df"
   ]
  },
  {
   "cell_type": "code",
   "execution_count": 66,
   "metadata": {},
   "outputs": [
    {
     "data": {
      "text/plain": [
       "title           The Dark Knight\n",
       "rating                        9\n",
       "release_year               2010\n",
       "dtype: object"
      ]
     },
     "execution_count": 66,
     "metadata": {},
     "output_type": "execute_result"
    }
   ],
   "source": [
    "df.max() # 這樣會直接對欄作用排序"
   ]
  },
  {
   "cell_type": "code",
   "execution_count": 67,
   "metadata": {},
   "outputs": [
    {
     "data": {
      "text/plain": [
       "0    2008.0\n",
       "1    1993.0\n",
       "2    1994.0\n",
       "3    2010.0\n",
       "dtype: float64"
      ]
     },
     "execution_count": 67,
     "metadata": {},
     "output_type": "execute_result"
    }
   ],
   "source": [
    "df.max(axis=1) #每一列的最大值"
   ]
  },
  {
   "cell_type": "code",
   "execution_count": 72,
   "metadata": {},
   "outputs": [
    {
     "data": {
      "text/plain": [
       "8.7"
      ]
     },
     "execution_count": 72,
     "metadata": {},
     "output_type": "execute_result"
    }
   ],
   "source": [
    "df['rating'].min() # 指定欄位做摘要"
   ]
  },
  {
   "cell_type": "code",
   "execution_count": 75,
   "metadata": {},
   "outputs": [
    {
     "data": {
      "text/html": [
       "<div>\n",
       "<style scoped>\n",
       "    .dataframe tbody tr th:only-of-type {\n",
       "        vertical-align: middle;\n",
       "    }\n",
       "\n",
       "    .dataframe tbody tr th {\n",
       "        vertical-align: top;\n",
       "    }\n",
       "\n",
       "    .dataframe thead th {\n",
       "        text-align: right;\n",
       "    }\n",
       "</style>\n",
       "<table border=\"1\" class=\"dataframe\">\n",
       "  <thead>\n",
       "    <tr style=\"text-align: right;\">\n",
       "      <th></th>\n",
       "      <th>rating</th>\n",
       "      <th>release_year</th>\n",
       "    </tr>\n",
       "    <tr>\n",
       "      <th>title</th>\n",
       "      <th></th>\n",
       "      <th></th>\n",
       "    </tr>\n",
       "  </thead>\n",
       "  <tbody>\n",
       "    <tr>\n",
       "      <th>The Dark Knight</th>\n",
       "      <td>9.0</td>\n",
       "      <td>2008</td>\n",
       "    </tr>\n",
       "    <tr>\n",
       "      <th>Schindler's List</th>\n",
       "      <td>8.9</td>\n",
       "      <td>1993</td>\n",
       "    </tr>\n",
       "    <tr>\n",
       "      <th>Forrest Gump</th>\n",
       "      <td>8.8</td>\n",
       "      <td>1994</td>\n",
       "    </tr>\n",
       "    <tr>\n",
       "      <th>Inception</th>\n",
       "      <td>8.7</td>\n",
       "      <td>2010</td>\n",
       "    </tr>\n",
       "  </tbody>\n",
       "</table>\n",
       "</div>"
      ],
      "text/plain": [
       "                  rating  release_year\n",
       "title                                 \n",
       "The Dark Knight      9.0          2008\n",
       "Schindler's List     8.9          1993\n",
       "Forrest Gump         8.8          1994\n",
       "Inception            8.7          2010"
      ]
     },
     "execution_count": 75,
     "metadata": {},
     "output_type": "execute_result"
    }
   ],
   "source": [
    "movie_ratings = [9.0, 8.9, 8.8, 8.7]\n",
    "movie_titles = [\"The Dark Knight\", \"Schindler's List\", \"Forrest Gump\", \"Inception\"]\n",
    "release_years = [2008, 1993, 1994, 2010]\n",
    "df = pd.DataFrame()\n",
    "df[\"title\"] = movie_titles\n",
    "df[\"rating\"] = movie_ratings\n",
    "df[\"release_year\"] = release_years\n",
    "df = df.set_index('title')\n",
    "df"
   ]
  },
  {
   "cell_type": "code",
   "execution_count": 76,
   "metadata": {},
   "outputs": [
    {
     "data": {
      "text/plain": [
       "1993"
      ]
     },
     "execution_count": 76,
     "metadata": {},
     "output_type": "execute_result"
    }
   ],
   "source": [
    "df['release_year'].min()"
   ]
  },
  {
   "cell_type": "code",
   "execution_count": 81,
   "metadata": {},
   "outputs": [
    {
     "data": {
      "text/plain": [
       "\"Schindler's List\""
      ]
     },
     "execution_count": 81,
     "metadata": {},
     "output_type": "execute_result"
    }
   ],
   "source": [
    "df['release_year'].idxmin() #可用來找出是哪個索引的"
   ]
  },
  {
   "cell_type": "code",
   "execution_count": 82,
   "metadata": {},
   "outputs": [
    {
     "data": {
      "text/plain": [
       "9.0"
      ]
     },
     "execution_count": 82,
     "metadata": {},
     "output_type": "execute_result"
    }
   ],
   "source": [
    "df['rating'].max()"
   ]
  },
  {
   "cell_type": "code",
   "execution_count": 83,
   "metadata": {},
   "outputs": [
    {
     "data": {
      "text/plain": [
       "'The Dark Knight'"
      ]
     },
     "execution_count": 83,
     "metadata": {},
     "output_type": "execute_result"
    }
   ],
   "source": [
    "df['rating'].idxmax()"
   ]
  },
  {
   "cell_type": "code",
   "execution_count": 85,
   "metadata": {},
   "outputs": [],
   "source": [
    "#隨堂練習:誰的背號數字最大？"
   ]
  },
  {
   "cell_type": "code",
   "execution_count": 98,
   "metadata": {},
   "outputs": [
    {
     "data": {
      "text/html": [
       "<div>\n",
       "<style scoped>\n",
       "    .dataframe tbody tr th:only-of-type {\n",
       "        vertical-align: middle;\n",
       "    }\n",
       "\n",
       "    .dataframe tbody tr th {\n",
       "        vertical-align: top;\n",
       "    }\n",
       "\n",
       "    .dataframe thead th {\n",
       "        text-align: right;\n",
       "    }\n",
       "</style>\n",
       "<table border=\"1\" class=\"dataframe\">\n",
       "  <thead>\n",
       "    <tr style=\"text-align: right;\">\n",
       "      <th></th>\n",
       "      <th>number</th>\n",
       "      <th>player</th>\n",
       "    </tr>\n",
       "  </thead>\n",
       "  <tbody>\n",
       "    <tr>\n",
       "      <th>0</th>\n",
       "      <td>9</td>\n",
       "      <td>Ron Harper</td>\n",
       "    </tr>\n",
       "    <tr>\n",
       "      <th>1</th>\n",
       "      <td>23</td>\n",
       "      <td>Michael Jordan</td>\n",
       "    </tr>\n",
       "    <tr>\n",
       "      <th>2</th>\n",
       "      <td>33</td>\n",
       "      <td>Scottie Pippen</td>\n",
       "    </tr>\n",
       "    <tr>\n",
       "      <th>3</th>\n",
       "      <td>91</td>\n",
       "      <td>Dennis Rodman</td>\n",
       "    </tr>\n",
       "    <tr>\n",
       "      <th>4</th>\n",
       "      <td>13</td>\n",
       "      <td>Luc Longley</td>\n",
       "    </tr>\n",
       "  </tbody>\n",
       "</table>\n",
       "</div>"
      ],
      "text/plain": [
       "   number          player\n",
       "0       9      Ron Harper\n",
       "1      23  Michael Jordan\n",
       "2      33  Scottie Pippen\n",
       "3      91   Dennis Rodman\n",
       "4      13     Luc Longley"
      ]
     },
     "execution_count": 98,
     "metadata": {},
     "output_type": "execute_result"
    }
   ],
   "source": [
    "import pandas as pd\n",
    "\n",
    "numbers = [9, 23, 33, 91, 13]\n",
    "players = [\"Ron Harper\", \"Michael Jordan\", \"Scottie Pippen\", \"Dennis Rodman\", \"Luc Longley\"]\n",
    "df = pd.DataFrame()\n",
    "df[\"number\"] = numbers\n",
    "df[\"player\"] = players\n",
    "df"
   ]
  },
  {
   "cell_type": "code",
   "execution_count": 95,
   "metadata": {},
   "outputs": [
    {
     "data": {
      "text/html": [
       "<div>\n",
       "<style scoped>\n",
       "    .dataframe tbody tr th:only-of-type {\n",
       "        vertical-align: middle;\n",
       "    }\n",
       "\n",
       "    .dataframe tbody tr th {\n",
       "        vertical-align: top;\n",
       "    }\n",
       "\n",
       "    .dataframe thead th {\n",
       "        text-align: right;\n",
       "    }\n",
       "</style>\n",
       "<table border=\"1\" class=\"dataframe\">\n",
       "  <thead>\n",
       "    <tr style=\"text-align: right;\">\n",
       "      <th></th>\n",
       "      <th>number</th>\n",
       "    </tr>\n",
       "    <tr>\n",
       "      <th>player</th>\n",
       "      <th></th>\n",
       "    </tr>\n",
       "  </thead>\n",
       "  <tbody>\n",
       "    <tr>\n",
       "      <th>Ron Harper</th>\n",
       "      <td>9</td>\n",
       "    </tr>\n",
       "    <tr>\n",
       "      <th>Michael Jordan</th>\n",
       "      <td>23</td>\n",
       "    </tr>\n",
       "    <tr>\n",
       "      <th>Scottie Pippen</th>\n",
       "      <td>33</td>\n",
       "    </tr>\n",
       "    <tr>\n",
       "      <th>Dennis Rodman</th>\n",
       "      <td>91</td>\n",
       "    </tr>\n",
       "    <tr>\n",
       "      <th>Luc Longley</th>\n",
       "      <td>13</td>\n",
       "    </tr>\n",
       "  </tbody>\n",
       "</table>\n",
       "</div>"
      ],
      "text/plain": [
       "                number\n",
       "player                \n",
       "Ron Harper           9\n",
       "Michael Jordan      23\n",
       "Scottie Pippen      33\n",
       "Dennis Rodman       91\n",
       "Luc Longley         13"
      ]
     },
     "execution_count": 95,
     "metadata": {},
     "output_type": "execute_result"
    }
   ],
   "source": [
    "#法一\n",
    "df = df.set_index('player')\n",
    "df"
   ]
  },
  {
   "cell_type": "code",
   "execution_count": 96,
   "metadata": {},
   "outputs": [
    {
     "data": {
      "text/plain": [
       "'Dennis Rodman'"
      ]
     },
     "execution_count": 96,
     "metadata": {},
     "output_type": "execute_result"
    }
   ],
   "source": [
    "df['number'].idxmax()"
   ]
  },
  {
   "cell_type": "code",
   "execution_count": 99,
   "metadata": {},
   "outputs": [
    {
     "data": {
      "text/plain": [
       "'Dennis Rodman'"
      ]
     },
     "execution_count": 99,
     "metadata": {},
     "output_type": "execute_result"
    }
   ],
   "source": [
    "#法二\n",
    "df.set_index(\"player\")[\"number\"].idxmax()"
   ]
  },
  {
   "cell_type": "code",
   "execution_count": 102,
   "metadata": {},
   "outputs": [
    {
     "data": {
      "text/plain": [
       "0      New Zealand\n",
       "1              USA\n",
       "2      South Sudan\n",
       "3              USA\n",
       "4           Canada\n",
       "          ...     \n",
       "519            USA\n",
       "520            USA\n",
       "521            USA\n",
       "522        Croatia\n",
       "523        Croatia\n",
       "Name: country, Length: 524, dtype: object"
      ]
     },
     "execution_count": 102,
     "metadata": {},
     "output_type": "execute_result"
    }
   ],
   "source": [
    "player_profile = pd.read_csv(\"https://python4ds.s3-ap-northeast-1.amazonaws.com/player_profile.csv\")\n",
    "player_profile['country']"
   ]
  },
  {
   "cell_type": "code",
   "execution_count": 103,
   "metadata": {},
   "outputs": [
    {
     "data": {
      "text/plain": [
       "42"
      ]
     },
     "execution_count": 103,
     "metadata": {},
     "output_type": "execute_result"
    }
   ],
   "source": [
    "player_profile['country'].nunique()"
   ]
  },
  {
   "cell_type": "code",
   "execution_count": 104,
   "metadata": {},
   "outputs": [
    {
     "data": {
      "text/plain": [
       "array(['New Zealand', 'USA', 'South Sudan', 'Canada', 'Greece',\n",
       "       'United Kingdom', 'Bahamas', 'France', 'Australia', 'Italy',\n",
       "       'Croatia', 'Latvia', 'Georgia', 'Democratic Republic of the Congo',\n",
       "       'Serbia', 'Sudan', 'Germany', 'Lithuania', 'Brazil', 'Slovenia',\n",
       "       'Switzerland', nan, 'Mali', 'Senegal', 'Guinea', 'Cameroon',\n",
       "       'Angola', ' ', 'Spain', 'Yugoslavia', 'Japan',\n",
       "       'Dominican Republic', 'Turkey', 'Haiti', 'Ukraine', 'Finland',\n",
       "       'Bosnia and Herzegovina', 'Egypt', 'Nigeria', 'Austria',\n",
       "       'Czech Republic', 'Gabon', 'Montenegro'], dtype=object)"
      ]
     },
     "execution_count": 104,
     "metadata": {},
     "output_type": "execute_result"
    }
   ],
   "source": [
    "player_profile['country'].unique()"
   ]
  },
  {
   "cell_type": "code",
   "execution_count": 107,
   "metadata": {},
   "outputs": [
    {
     "data": {
      "text/plain": [
       "USA                                 393\n",
       "Canada                               20\n",
       "France                               12\n",
       "Australia                            10\n",
       "Croatia                               7\n",
       "Germany                               6\n",
       "Serbia                                6\n",
       "Spain                                 5\n",
       "Turkey                                4\n",
       "Lithuania                             4\n",
       "Brazil                                3\n",
       "Latvia                                3\n",
       "Slovenia                              3\n",
       "Italy                                 3\n",
       "Democratic Republic of the Congo      3\n",
       "Greece                                3\n",
       "Bosnia and Herzegovina                2\n",
       "Cameroon                              2\n",
       "Senegal                               2\n",
       "South Sudan                           2\n",
       "Japan                                 2\n",
       "Bahamas                               2\n",
       "United Kingdom                        2\n",
       "Mali                                  2\n",
       "Sudan                                 2\n",
       "Ukraine                               2\n",
       "Austria                               1\n",
       "Nigeria                               1\n",
       "Czech Republic                        1\n",
       "Haiti                                 1\n",
       "Egypt                                 1\n",
       "Switzerland                           1\n",
       "Angola                                1\n",
       "New Zealand                           1\n",
       "Guinea                                1\n",
       "                                      1\n",
       "Montenegro                            1\n",
       "Georgia                               1\n",
       "Gabon                                 1\n",
       "Yugoslavia                            1\n",
       "Dominican Republic                    1\n",
       "Finland                               1\n",
       "Name: country, dtype: int64"
      ]
     },
     "execution_count": 107,
     "metadata": {},
     "output_type": "execute_result"
    }
   ],
   "source": [
    "player_profile['country'].value_counts()"
   ]
  },
  {
   "cell_type": "code",
   "execution_count": 112,
   "metadata": {},
   "outputs": [
    {
     "name": "stdout",
     "output_type": "stream",
     "text": [
      "pos\n",
      "C      2.126863\n",
      "C-F    2.090000\n",
      "F      2.044378\n",
      "F-C    2.107500\n",
      "F-G    1.995333\n",
      "G      1.924800\n",
      "G-F    2.000000\n",
      "Name: heightMeters, dtype: float64\n",
      "\n",
      "\n",
      "pos\n",
      "C      114.335294\n",
      "C-F    110.676923\n",
      "F      101.589730\n",
      "F-C    110.855000\n",
      "F-G     95.126667\n",
      "G       88.896000\n",
      "G-F     95.717949\n",
      "Name: weightKilograms, dtype: float64\n"
     ]
    }
   ],
   "source": [
    "#用pos做分組\n",
    "groupby_object = player_profile.groupby(\"pos\")\n",
    "print(groupby_object[\"heightMeters\"].mean()) # Average height by pos\n",
    "print(\"\\n\")\n",
    "print(groupby_object[\"weightKilograms\"].mean()) # Average weight by pos"
   ]
  },
  {
   "cell_type": "code",
   "execution_count": 111,
   "metadata": {},
   "outputs": [
    {
     "data": {
      "text/plain": [
       "2.0055258126194997"
      ]
     },
     "execution_count": 111,
     "metadata": {},
     "output_type": "execute_result"
    }
   ],
   "source": [
    "player_profile['heightMeters'].mean()"
   ]
  },
  {
   "cell_type": "code",
   "execution_count": 113,
   "metadata": {},
   "outputs": [
    {
     "data": {
      "text/plain": [
       "<pandas.core.groupby.generic.DataFrameGroupBy object at 0x000001E921906B20>"
      ]
     },
     "execution_count": 113,
     "metadata": {},
     "output_type": "execute_result"
    }
   ],
   "source": [
    "groupby_object"
   ]
  },
  {
   "cell_type": "code",
   "execution_count": 117,
   "metadata": {},
   "outputs": [
    {
     "data": {
      "text/html": [
       "<div>\n",
       "<style scoped>\n",
       "    .dataframe tbody tr th:only-of-type {\n",
       "        vertical-align: middle;\n",
       "    }\n",
       "\n",
       "    .dataframe tbody tr th {\n",
       "        vertical-align: top;\n",
       "    }\n",
       "\n",
       "    .dataframe thead th {\n",
       "        text-align: right;\n",
       "    }\n",
       "</style>\n",
       "<table border=\"1\" class=\"dataframe\">\n",
       "  <thead>\n",
       "    <tr style=\"text-align: right;\">\n",
       "      <th></th>\n",
       "      <th>title</th>\n",
       "      <th>rating</th>\n",
       "      <th>release_year</th>\n",
       "    </tr>\n",
       "  </thead>\n",
       "  <tbody>\n",
       "    <tr>\n",
       "      <th>0</th>\n",
       "      <td>The Dark Knight</td>\n",
       "      <td>9.0</td>\n",
       "      <td>2008</td>\n",
       "    </tr>\n",
       "    <tr>\n",
       "      <th>1</th>\n",
       "      <td>Schindler's List</td>\n",
       "      <td>8.9</td>\n",
       "      <td>1993</td>\n",
       "    </tr>\n",
       "    <tr>\n",
       "      <th>2</th>\n",
       "      <td>Forrest Gump</td>\n",
       "      <td>8.8</td>\n",
       "      <td>1994</td>\n",
       "    </tr>\n",
       "    <tr>\n",
       "      <th>3</th>\n",
       "      <td>Inception</td>\n",
       "      <td>8.7</td>\n",
       "      <td>2010</td>\n",
       "    </tr>\n",
       "  </tbody>\n",
       "</table>\n",
       "</div>"
      ],
      "text/plain": [
       "              title  rating  release_year\n",
       "0   The Dark Knight     9.0          2008\n",
       "1  Schindler's List     8.9          1993\n",
       "2      Forrest Gump     8.8          1994\n",
       "3         Inception     8.7          2010"
      ]
     },
     "execution_count": 117,
     "metadata": {},
     "output_type": "execute_result"
    }
   ],
   "source": [
    "movie_ratings = [9.0, 8.9, 8.8, 8.7]\n",
    "movie_titles = [\"The Dark Knight\", \"Schindler's List\", \"Forrest Gump\", \"Inception\"]\n",
    "release_years = [2008, 1993, 1994, 2010]\n",
    "df = pd.DataFrame()\n",
    "df[\"title\"] = movie_titles\n",
    "df[\"rating\"] = movie_ratings\n",
    "df[\"release_year\"] = release_years\n",
    "df"
   ]
  },
  {
   "cell_type": "code",
   "execution_count": 118,
   "metadata": {},
   "outputs": [
    {
     "data": {
      "text/html": [
       "<div>\n",
       "<style scoped>\n",
       "    .dataframe tbody tr th:only-of-type {\n",
       "        vertical-align: middle;\n",
       "    }\n",
       "\n",
       "    .dataframe tbody tr th {\n",
       "        vertical-align: top;\n",
       "    }\n",
       "\n",
       "    .dataframe thead th {\n",
       "        text-align: right;\n",
       "    }\n",
       "</style>\n",
       "<table border=\"1\" class=\"dataframe\">\n",
       "  <thead>\n",
       "    <tr style=\"text-align: right;\">\n",
       "      <th></th>\n",
       "      <th>rating</th>\n",
       "      <th>release_year</th>\n",
       "    </tr>\n",
       "    <tr>\n",
       "      <th>title</th>\n",
       "      <th></th>\n",
       "      <th></th>\n",
       "    </tr>\n",
       "  </thead>\n",
       "  <tbody>\n",
       "    <tr>\n",
       "      <th>The Dark Knight</th>\n",
       "      <td>9.0</td>\n",
       "      <td>2008</td>\n",
       "    </tr>\n",
       "    <tr>\n",
       "      <th>Schindler's List</th>\n",
       "      <td>8.9</td>\n",
       "      <td>1993</td>\n",
       "    </tr>\n",
       "    <tr>\n",
       "      <th>Forrest Gump</th>\n",
       "      <td>8.8</td>\n",
       "      <td>1994</td>\n",
       "    </tr>\n",
       "    <tr>\n",
       "      <th>Inception</th>\n",
       "      <td>8.7</td>\n",
       "      <td>2010</td>\n",
       "    </tr>\n",
       "  </tbody>\n",
       "</table>\n",
       "</div>"
      ],
      "text/plain": [
       "                  rating  release_year\n",
       "title                                 \n",
       "The Dark Knight      9.0          2008\n",
       "Schindler's List     8.9          1993\n",
       "Forrest Gump         8.8          1994\n",
       "Inception            8.7          2010"
      ]
     },
     "execution_count": 118,
     "metadata": {},
     "output_type": "execute_result"
    }
   ],
   "source": [
    "df = df.set_index('title')\n",
    "df"
   ]
  },
  {
   "cell_type": "code",
   "execution_count": 119,
   "metadata": {},
   "outputs": [
    {
     "data": {
      "text/html": [
       "<div>\n",
       "<style scoped>\n",
       "    .dataframe tbody tr th:only-of-type {\n",
       "        vertical-align: middle;\n",
       "    }\n",
       "\n",
       "    .dataframe tbody tr th {\n",
       "        vertical-align: top;\n",
       "    }\n",
       "\n",
       "    .dataframe thead th {\n",
       "        text-align: right;\n",
       "    }\n",
       "</style>\n",
       "<table border=\"1\" class=\"dataframe\">\n",
       "  <thead>\n",
       "    <tr style=\"text-align: right;\">\n",
       "      <th></th>\n",
       "      <th>title</th>\n",
       "      <th>rating</th>\n",
       "      <th>release_year</th>\n",
       "    </tr>\n",
       "  </thead>\n",
       "  <tbody>\n",
       "    <tr>\n",
       "      <th>0</th>\n",
       "      <td>The Dark Knight</td>\n",
       "      <td>9.0</td>\n",
       "      <td>2008</td>\n",
       "    </tr>\n",
       "    <tr>\n",
       "      <th>1</th>\n",
       "      <td>Schindler's List</td>\n",
       "      <td>8.9</td>\n",
       "      <td>1993</td>\n",
       "    </tr>\n",
       "    <tr>\n",
       "      <th>2</th>\n",
       "      <td>Forrest Gump</td>\n",
       "      <td>8.8</td>\n",
       "      <td>1994</td>\n",
       "    </tr>\n",
       "    <tr>\n",
       "      <th>3</th>\n",
       "      <td>Inception</td>\n",
       "      <td>8.7</td>\n",
       "      <td>2010</td>\n",
       "    </tr>\n",
       "  </tbody>\n",
       "</table>\n",
       "</div>"
      ],
      "text/plain": [
       "              title  rating  release_year\n",
       "0   The Dark Knight     9.0          2008\n",
       "1  Schindler's List     8.9          1993\n",
       "2      Forrest Gump     8.8          1994\n",
       "3         Inception     8.7          2010"
      ]
     },
     "execution_count": 119,
     "metadata": {},
     "output_type": "execute_result"
    }
   ],
   "source": [
    "df = df.reset_index()\n",
    "df"
   ]
  },
  {
   "cell_type": "code",
   "execution_count": 123,
   "metadata": {},
   "outputs": [
    {
     "data": {
      "text/html": [
       "<div>\n",
       "<style scoped>\n",
       "    .dataframe tbody tr th:only-of-type {\n",
       "        vertical-align: middle;\n",
       "    }\n",
       "\n",
       "    .dataframe tbody tr th {\n",
       "        vertical-align: top;\n",
       "    }\n",
       "\n",
       "    .dataframe thead th {\n",
       "        text-align: right;\n",
       "    }\n",
       "</style>\n",
       "<table border=\"1\" class=\"dataframe\">\n",
       "  <thead>\n",
       "    <tr style=\"text-align: right;\">\n",
       "      <th></th>\n",
       "      <th>title</th>\n",
       "      <th>rating</th>\n",
       "      <th>release_year</th>\n",
       "    </tr>\n",
       "  </thead>\n",
       "  <tbody>\n",
       "    <tr>\n",
       "      <th>0</th>\n",
       "      <td>The Dark Knight</td>\n",
       "      <td>9.0</td>\n",
       "      <td>2008</td>\n",
       "    </tr>\n",
       "    <tr>\n",
       "      <th>3</th>\n",
       "      <td>Inception</td>\n",
       "      <td>8.7</td>\n",
       "      <td>2010</td>\n",
       "    </tr>\n",
       "  </tbody>\n",
       "</table>\n",
       "</div>"
      ],
      "text/plain": [
       "             title  rating  release_year\n",
       "0  The Dark Knight     9.0          2008\n",
       "3        Inception     8.7          2010"
      ]
     },
     "execution_count": 123,
     "metadata": {},
     "output_type": "execute_result"
    }
   ],
   "source": [
    "final_df = df[df['release_year'] > 2005]\n",
    "final_df"
   ]
  },
  {
   "cell_type": "code",
   "execution_count": 124,
   "metadata": {},
   "outputs": [
    {
     "data": {
      "text/html": [
       "<div>\n",
       "<style scoped>\n",
       "    .dataframe tbody tr th:only-of-type {\n",
       "        vertical-align: middle;\n",
       "    }\n",
       "\n",
       "    .dataframe tbody tr th {\n",
       "        vertical-align: top;\n",
       "    }\n",
       "\n",
       "    .dataframe thead th {\n",
       "        text-align: right;\n",
       "    }\n",
       "</style>\n",
       "<table border=\"1\" class=\"dataframe\">\n",
       "  <thead>\n",
       "    <tr style=\"text-align: right;\">\n",
       "      <th></th>\n",
       "      <th>index</th>\n",
       "      <th>title</th>\n",
       "      <th>rating</th>\n",
       "      <th>release_year</th>\n",
       "    </tr>\n",
       "  </thead>\n",
       "  <tbody>\n",
       "    <tr>\n",
       "      <th>0</th>\n",
       "      <td>0</td>\n",
       "      <td>The Dark Knight</td>\n",
       "      <td>9.0</td>\n",
       "      <td>2008</td>\n",
       "    </tr>\n",
       "    <tr>\n",
       "      <th>1</th>\n",
       "      <td>3</td>\n",
       "      <td>Inception</td>\n",
       "      <td>8.7</td>\n",
       "      <td>2010</td>\n",
       "    </tr>\n",
       "  </tbody>\n",
       "</table>\n",
       "</div>"
      ],
      "text/plain": [
       "   index            title  rating  release_year\n",
       "0      0  The Dark Knight     9.0          2008\n",
       "1      3        Inception     8.7          2010"
      ]
     },
     "execution_count": 124,
     "metadata": {},
     "output_type": "execute_result"
    }
   ],
   "source": [
    "final_df.reset_index()"
   ]
  },
  {
   "cell_type": "code",
   "execution_count": 126,
   "metadata": {},
   "outputs": [
    {
     "data": {
      "text/html": [
       "<div>\n",
       "<style scoped>\n",
       "    .dataframe tbody tr th:only-of-type {\n",
       "        vertical-align: middle;\n",
       "    }\n",
       "\n",
       "    .dataframe tbody tr th {\n",
       "        vertical-align: top;\n",
       "    }\n",
       "\n",
       "    .dataframe thead th {\n",
       "        text-align: right;\n",
       "    }\n",
       "</style>\n",
       "<table border=\"1\" class=\"dataframe\">\n",
       "  <thead>\n",
       "    <tr style=\"text-align: right;\">\n",
       "      <th></th>\n",
       "      <th>title</th>\n",
       "      <th>rating</th>\n",
       "      <th>release_year</th>\n",
       "    </tr>\n",
       "  </thead>\n",
       "  <tbody>\n",
       "    <tr>\n",
       "      <th>0</th>\n",
       "      <td>The Dark Knight</td>\n",
       "      <td>9.0</td>\n",
       "      <td>2008</td>\n",
       "    </tr>\n",
       "    <tr>\n",
       "      <th>1</th>\n",
       "      <td>Inception</td>\n",
       "      <td>8.7</td>\n",
       "      <td>2010</td>\n",
       "    </tr>\n",
       "  </tbody>\n",
       "</table>\n",
       "</div>"
      ],
      "text/plain": [
       "             title  rating  release_year\n",
       "0  The Dark Knight     9.0          2008\n",
       "1        Inception     8.7          2010"
      ]
     },
     "execution_count": 126,
     "metadata": {},
     "output_type": "execute_result"
    }
   ],
   "source": [
    "#把舊的索引砍掉\n",
    "final_df.reset_index(drop=True)"
   ]
  },
  {
   "cell_type": "code",
   "execution_count": null,
   "metadata": {},
   "outputs": [],
   "source": []
  }
 ],
 "metadata": {
  "kernelspec": {
   "display_name": "Python 3",
   "language": "python",
   "name": "python3"
  },
  "language_info": {
   "codemirror_mode": {
    "name": "ipython",
    "version": 3
   },
   "file_extension": ".py",
   "mimetype": "text/x-python",
   "name": "python",
   "nbconvert_exporter": "python",
   "pygments_lexer": "ipython3",
   "version": "3.8.3"
  }
 },
 "nbformat": 4,
 "nbformat_minor": 4
}
