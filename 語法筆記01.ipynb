{
 "cells": [
  {
   "cell_type": "code",
   "execution_count": 2,
   "metadata": {},
   "outputs": [],
   "source": [
    "#常用的 requests 函數\n",
    "#requests.get()：進行 GET 請求（下載檔案）、常搭配 Query String Parameters\n",
    "#requests.post()：進行 POST 請求（上傳資料）、搭配 Form Data"
   ]
  },
  {
   "cell_type": "code",
   "execution_count": 4,
   "metadata": {},
   "outputs": [],
   "source": [
    "import requests\n",
    "request_url = \"https://www.imdb.com/\"\n",
    "response = requests.get(request_url)"
   ]
  },
  {
   "cell_type": "code",
   "execution_count": 5,
   "metadata": {},
   "outputs": [],
   "source": [
    "request_url = \"https://mops.twse.com.tw/mops/web/t05st10_ifrs\"\n",
    "response = requests.post(request_url)"
   ]
  },
  {
   "cell_type": "code",
   "execution_count": 6,
   "metadata": {},
   "outputs": [],
   "source": [
    "#回應（Response 類別）的方法與屬性\n",
    "#response.status_code：查看狀態碼\n",
    "#response.json()：將回應直接轉換為 Python 的資料結構（list 或 dict）\n",
    "#response.content：將回應轉換為 bytes\n",
    "#response.text：將回應轉換為 str"
   ]
  },
  {
   "cell_type": "code",
   "execution_count": 7,
   "metadata": {},
   "outputs": [],
   "source": [
    "#檢視資料細節的 Preview 與 Response確認格式\n",
    "#如果資料是 JSON 格式：呼叫回應的 .json() 方法後直接以 Python 資料結構解析\n",
    "#如果資料是 XML 格式：呼叫回應的 .content 屬性後以 lxml 搭配 XPath 解析\n",
    "#如果資料是 HTML 格式：呼叫回應的 .text 屬性後以 bs4 搭配 CSS Selector 解"
   ]
  },
  {
   "cell_type": "code",
   "execution_count": null,
   "metadata": {},
   "outputs": [],
   "source": []
  }
 ],
 "metadata": {
  "kernelspec": {
   "display_name": "Python 3",
   "language": "python",
   "name": "python3"
  },
  "language_info": {
   "codemirror_mode": {
    "name": "ipython",
    "version": 3
   },
   "file_extension": ".py",
   "mimetype": "text/x-python",
   "name": "python",
   "nbconvert_exporter": "python",
   "pygments_lexer": "ipython3",
   "version": "3.7.6"
  }
 },
 "nbformat": 4,
 "nbformat_minor": 4
}
