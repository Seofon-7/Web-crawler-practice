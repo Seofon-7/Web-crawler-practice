{
 "cells": [
  {
   "cell_type": "code",
   "execution_count": 71,
   "metadata": {},
   "outputs": [
    {
     "name": "stdout",
     "output_type": "stream",
     "text": [
      "https://www.imdb.com/\n"
     ]
    }
   ],
   "source": [
    "from selenium import webdriver\n",
    "\n",
    "driver_path = \"C:/Users/Mark/Desktop/chromedriver.exe\"\n",
    "imdb_home = \"https://www.imdb.com/\"\n",
    "driver = webdriver.Chrome(executable_path=driver_path) # 初始化一個driver的物件\n",
    "driver.get(imdb_home) # 請他前往這個網頁\n",
    "print(driver.current_url)"
   ]
  },
  {
   "cell_type": "code",
   "execution_count": 72,
   "metadata": {},
   "outputs": [],
   "source": [
    "movie_title_xpath = \"//h1\"\n",
    "movie_poster_xpath = \"//div[@class='poster']/a/img\"\n",
    "movie_rating_xpath = \"//strong/span\"\n",
    "movie_genre_xpath = \"//div[@class='subtext']/a\"\n",
    "movie_cast_xpath = \"//td[2]/a\"\n",
    "imdb_search_input_xpath =\"//input[@id='suggestion-search']\"\n",
    "imdb_search_button_xpath = \"//button[@id='suggestion-search-button']\"\n",
    "imdb_search_movie_xpath = \"//ul[@class='findTitleSubfilterList']/li[1]/a\" # 右邊movie過濾選項\n",
    "imdb_search_result_xpath = \"//td[@class='result_text']/a\""
   ]
  },
  {
   "cell_type": "code",
   "execution_count": 73,
   "metadata": {},
   "outputs": [],
   "source": [
    "elem = driver.find_element_by_xpath(imdb_search_input_xpath)\n",
    "elem.send_keys(\"Avenger\") #直接輸入值到文字框中"
   ]
  },
  {
   "cell_type": "code",
   "execution_count": 74,
   "metadata": {},
   "outputs": [],
   "source": [
    "elem = driver.find_element_by_xpath(imdb_search_button_xpath)\n",
    "elem.click()  #點擊"
   ]
  },
  {
   "cell_type": "code",
   "execution_count": 75,
   "metadata": {},
   "outputs": [],
   "source": [
    "elem = driver.find_element_by_xpath(imdb_search_movie_xpath)\n",
    "elem.click()"
   ]
  },
  {
   "cell_type": "code",
   "execution_count": 76,
   "metadata": {},
   "outputs": [],
   "source": [
    "elems = driver.find_elements_by_xpath(imdb_search_result_xpath)"
   ]
  },
  {
   "cell_type": "code",
   "execution_count": 77,
   "metadata": {},
   "outputs": [
    {
     "name": "stdout",
     "output_type": "stream",
     "text": [
      "Suo ming\n",
      "復仇者聯盟：終局之戰\n",
      "復仇者聯盟：無限之戰\n",
      "復仇者聯盟2：奧創紀元\n",
      "復仇者聯盟\n",
      "Avengers of Justice: Farce Wars\n",
      "Avengement\n",
      "The Avengers\n",
      "美國隊長\n",
      "Savaged\n",
      "星際過客\n",
      "Revenge\n",
      "Revenger\n",
      "The Toxic Avenger\n",
      "Revenge\n",
      "Vengeance\n",
      "Scavengers\n",
      "La leggenda di Enea\n",
      "終極警探3\n",
      "Scavenger Hunt\n",
      "靈異航班\n",
      "Revenge Ride\n",
      "Avenging Angelo\n",
      "The Scavengers\n",
      "Revenge of the Nerds\n",
      "Prevenge\n",
      "The Day Will Dawn\n",
      "Avenging Force\n",
      "iNumber Number\n",
      "Der Rächer\n",
      "Avenging Angel\n",
      "Professione: reporter\n",
      "Mister X\n",
      "變形金剛：復仇之戰\n",
      "Jaws: The Revenge\n",
      "Passenger 57\n",
      "Lady Avenger\n",
      "To Avenge\n",
      "Vengeance\n",
      "星際大戰第三部曲：西斯大帝的復仇\n",
      "告密者\n",
      "Wonder Dogs\n",
      "親切的金子\n",
      "The Avenger\n",
      "天堂信差\n",
      "The Revengers\n",
      "Luna\n",
      "Acts of Vengeance\n",
      "Can que\n",
      "Soldier's Heart\n",
      "Vengeance\n",
      "The Messengers\n",
      "The Avenger\n",
      "Shi mei chu ma\n",
      "The Toxic Avenger Part II\n",
      "Furry Vengeance\n",
      "Kickboxer: Vengeance\n",
      "我要復仇\n",
      "The Scavengers\n",
      "Avenge the Crows\n",
      "The Messenger\n",
      "The Avengers\n",
      "The Avenging\n",
      "未婚妻的漫長等待\n",
      "Citizen Toxie: The Toxic Avenger IV\n",
      "The Avenging Silence\n",
      "Avengeance\n",
      "Cha shou\n",
      "美國隊長3：英雄內戰\n",
      "P.J.\n",
      "Revenge of the Creature\n",
      "Hämnaren\n",
      "Ghost Rider: Spirit of Vengeance\n",
      "Porky's Revenge\n",
      "Scavengers\n",
      "The Car: Road to Revenge\n",
      "復仇\n",
      "5th Passenger\n",
      "Kuen sun\n",
      "I coltelli del vendicatore\n",
      "The Revenger\n",
      "The Revenger\n",
      "I Spit on Your Grave 3: Vengeance Is Mine\n",
      "I Am Vengeance: Retaliation\n",
      "Vengeance: A Love Story\n",
      "Skavengers\n",
      "Scavenger\n",
      "Avenge\n",
      "Avenged\n",
      "The Toxic Avenger\n",
      "Messenger of Death\n",
      "Scavenger\n",
      "Revenge of the Ninja\n",
      "Alien Space Avenger\n",
      "The Challenger\n",
      "Revenge of the Pink Panther\n",
      "Kid Vengeance\n",
      "Fang Shi Yu yu Hu Hui Qian\n",
      "盧貝松之聖女貞德\n",
      "Naked Vengeance\n",
      "半夜鬼上床2：猛鬼纏身\n",
      "The Street Avenger\n",
      "Devil's Revenge\n",
      "Scavenger Killers\n",
      "Leng xue shi san ying\n",
      "The Toxic Avenger: The Musical\n",
      "Arthur et la vengeance de Maltazard\n",
      "Ninja Vengeance\n",
      "Mortal Kombat Legends: Scorpion's Revenge\n",
      "Pasazerka\n",
      "Grizzly II: The Predator\n",
      "霸海紅英\n",
      "Zorro, the Avenger\n",
      "The Avenger\n",
      "Fukushû suru wa ware ni ari\n",
      "美國隊長2：酷寒戰士\n",
      "Avenged\n",
      "Scavenger\n",
      "The Avenger\n",
      "The Avenger\n",
      "Scavenger\n",
      "Bound to Vengeance\n",
      "Mask of the Avenger\n",
      "Bao chou\n",
      "Revenge\n",
      "La sfida dei giganti\n",
      "Mest\n",
      "J.D.'s Revenge\n",
      "Scavengers\n",
      "貓狗大戰：珍珠貓大反撲\n",
      "Forced Vengeance\n",
      "Act of Vengeance\n",
      "Pinocchio's Revenge\n",
      "Rendel\n",
      "Avenge Me\n",
      "Avengers: Legacy\n",
      "Halloween 5: The Revenge of Michael Myers\n",
      "Avengelyne\n",
      "Hevn\n",
      "Mohammad Rasoolollah\n",
      "Revengers Tragedy\n",
      "Vengeur\n",
      "Sword of Vengeance\n",
      "The Levenger Tapes\n",
      "Vengeance Valley\n",
      "Revenge for Jolly!\n",
      "Tômei ningen\n",
      "Il ponte dei sospiri\n",
      "Safaibaaz - The Scavenger\n",
      "Il giustiziere dei mari\n",
      "A Vingança de Uma Mulher\n",
      "La venganza del Zorro\n",
      "The Courageous Avenger\n",
      "Invisible Avenger\n",
      "Cry Vengeance\n",
      "Measure of Revenge\n",
      "The Avenging Rider\n",
      "Vengeance Turns\n",
      "Avengers: Reassembled\n",
      "Zorrita: Passion's Avenger\n",
      "Ninja Avengers\n",
      "Samurai Cop 2: Deadly Vengeance\n",
      "Dying for the Crown\n",
      "The Ninth Passenger\n",
      "Gli invincibili tre\n",
      "Jack's Law\n",
      "Sweet Vengeance\n",
      "Avenging Evil\n",
      "Out for Vengeance\n",
      "Revenge of the Nerds II: Nerds in Paradise\n",
      "Zeder\n",
      "El Zorro justiciero\n",
      "Joko invoca Dio... e muori\n",
      "Looking for Mr. Wonderful\n",
      "Zemsta\n",
      "The Four Musketeers\n",
      "Da chu tou\n",
      "Last Passenger\n",
      "Manchurian Avenger\n",
      "Lizzie Borden's Revenge\n",
      "Tekken: A Man Called X\n",
      "The Dark Avengers\n",
      "The Vengeance of She\n",
      "Revenge\n",
      "Kozure Ôkami: Ko wo kashi ude kashi tsukamatsuru\n",
      "I diavoli di Spartivento\n",
      "Revengeance\n",
      "The Avenging Arrow\n",
      "Road to Revenge\n",
      "Vengeance\n",
      "Gamera 3: Jashin kakusei\n",
      "Sweet Revenge\n",
      "Ride Out for Revenge\n",
      "The Revengers' Comedies\n",
      "Sweet Revenge\n",
      "Kincsem\n",
      "Revanche\n",
      "Rencor tatuado\n",
      "Revenge\n",
      "Rolling Vengeance\n"
     ]
    }
   ],
   "source": [
    "for e in elems:\n",
    "    print(e.text)"
   ]
  },
  {
   "cell_type": "code",
   "execution_count": 78,
   "metadata": {},
   "outputs": [
    {
     "name": "stdout",
     "output_type": "stream",
     "text": [
      "<class 'selenium.webdriver.remote.webelement.WebElement'>\n",
      "https://www.imdb.com/title/tt5971902/?ref_=fn_ft_tt_1\n"
     ]
    }
   ],
   "source": [
    "first_elem = elems[0]\n",
    "print(type(first_elem))\n",
    "print(first_elem.get_attribute(\"href\")) #得到第一個搜尋結果的連結"
   ]
  },
  {
   "cell_type": "code",
   "execution_count": 79,
   "metadata": {},
   "outputs": [],
   "source": [
    "first_elem.click()"
   ]
  },
  {
   "cell_type": "code",
   "execution_count": 80,
   "metadata": {},
   "outputs": [
    {
     "data": {
      "text/plain": [
       "'https://www.imdb.com/title/tt5971902/?ref_=fn_ft_tt_1'"
      ]
     },
     "execution_count": 80,
     "metadata": {},
     "output_type": "execute_result"
    }
   ],
   "source": [
    "driver.current_url #driver目前頁面"
   ]
  },
  {
   "cell_type": "code",
   "execution_count": 84,
   "metadata": {},
   "outputs": [
    {
     "name": "stdout",
     "output_type": "stream",
     "text": [
      "Suo ming (1996)\n"
     ]
    }
   ],
   "source": [
    "#單筆資料範例\n",
    "elem = driver.find_element_by_xpath(movie_title_xpath)\n",
    "print(elem.text)"
   ]
  },
  {
   "cell_type": "code",
   "execution_count": 85,
   "metadata": {},
   "outputs": [
    {
     "name": "stdout",
     "output_type": "stream",
     "text": [
      "https://m.media-amazon.com/images/M/MV5BMmExMDk0YmMtMDVjOC00OWQ3LTgxZDQtMWM1ZDgzZmY3ZWZkXkEyXkFqcGdeQXVyNzYxODU3NA@@._V1_UY268_CR5,0,182,268_AL_.jpg\n"
     ]
    }
   ],
   "source": [
    "elem = driver.find_element_by_xpath(movie_poster_xpath)\n",
    "print(elem.get_attribute(\"src\"))"
   ]
  },
  {
   "cell_type": "code",
   "execution_count": 86,
   "metadata": {},
   "outputs": [
    {
     "name": "stdout",
     "output_type": "stream",
     "text": [
      "Action\n",
      "Crime\n",
      "1996 (Hong Kong)\n"
     ]
    }
   ],
   "source": [
    "#多筆資料範例\n",
    "elems = driver.find_elements_by_xpath(movie_genre_xpath)\n",
    "for e in elems:\n",
    "    print(e.text)"
   ]
  },
  {
   "cell_type": "code",
   "execution_count": 87,
   "metadata": {},
   "outputs": [],
   "source": [
    "driver.close()"
   ]
  },
  {
   "cell_type": "code",
   "execution_count": 12,
   "metadata": {},
   "outputs": [],
   "source": [
    "#driver.find_element_by_css_selector() ：定位搜尋欄位、搜尋按鈕與搜尋結果連結（單筆資料）\n",
    "#driver.find_elements_by_css_selector() ：定位搜尋欄位、搜尋按鈕與搜尋結果連結（多筆資料）"
   ]
  },
  {
   "cell_type": "code",
   "execution_count": 15,
   "metadata": {},
   "outputs": [
    {
     "data": {
      "text/plain": [
       "'\\nXPath Helper用法:\\n    左邊QUERY用SHIFT按住,找想看的資料\\n    因XPATH太長,將相同地方削去較方便,如消到剩//h1\\n最後面有@src,意思是把src這個attribute拿出來\\n'"
      ]
     },
     "execution_count": 15,
     "metadata": {},
     "output_type": "execute_result"
    }
   ],
   "source": [
    "'''\n",
    "XPath Helper用法:\n",
    "    左邊QUERY用SHIFT按住,找想看的資料\n",
    "    因XPATH太長,將相同地方削去較方便,如消到剩//h1\n",
    "最後面有@src,意思是把src這個attribute拿出來\n",
    "'''"
   ]
  },
  {
   "cell_type": "code",
   "execution_count": 16,
   "metadata": {},
   "outputs": [],
   "source": []
  },
  {
   "cell_type": "code",
   "execution_count": 17,
   "metadata": {},
   "outputs": [
    {
     "data": {
      "text/plain": [
       "'\\n用XPATH HELPER定位SEARCH文字框,可以看到RESULTS是空的,因為他沒值,是要輸入值的東西\\n\\n'"
      ]
     },
     "execution_count": 17,
     "metadata": {},
     "output_type": "execute_result"
    }
   ],
   "source": [
    "'''\n",
    "用XPATH HELPER定位SEARCH文字框,可以看到RESULTS是空的,因為他沒值,是要輸入值的東西\n",
    "\n",
    "'''"
   ]
  },
  {
   "cell_type": "code",
   "execution_count": 88,
   "metadata": {},
   "outputs": [],
   "source": [
    "#隨堂練習"
   ]
  },
  {
   "cell_type": "code",
   "execution_count": 23,
   "metadata": {},
   "outputs": [],
   "source": [
    "movie_title_xpath = \"//h1\"\n",
    "movie_poster_xpath = \"//div[@class='poster']/a/img\"\n",
    "movie_rating_xpath = \"//strong/span\"\n",
    "movie_genre_xpath = \"//div[@class='subtext']/a\"\n",
    "movie_cast_xpath = \"//td[2]/a\"\n",
    "imdb_search_input_xpath =\"//input[@id='suggestion-search']\"\n",
    "imdb_search_button_xpath = \"//button[@id='suggestion-search-button']\"\n",
    "imdb_search_movie_xpath = \"//ul[@class='findTitleSubfilterList']/li[1]/a\" # 右邊movie過濾選項\n",
    "imdb_search_result_xpath = \"//td[@class='result_text']/a\""
   ]
  },
  {
   "cell_type": "code",
   "execution_count": 26,
   "metadata": {},
   "outputs": [],
   "source": [
    "from selenium import webdriver\n",
    "import time\n",
    "\n",
    "def get_movie_data(search_movie_title):\n",
    "    driver_path = \"C:/Users/Mark/Desktop/chromedriver.exe\"\n",
    "    imdb_home = \"https://www.imdb.com/\"\n",
    "    driver = webdriver.Chrome(executable_path=driver_path) # 初始化一個driver的物件\n",
    "    driver.get(imdb_home) # 請他前往這個網頁\n",
    "    print(driver.current_url)\n",
    "    # search movie title\n",
    "    elem = driver.find_element_by_xpath(imdb_search_input_xpath)\n",
    "    elem.send_keys(search_movie_title) \n",
    "    elem = driver.find_element_by_xpath(imdb_search_button_xpath)\n",
    "    elem.click()\n",
    "    time.sleep(5) # 避免跑太快導致資料不完全\n",
    "    #filter search results to movie category\n",
    "    elem = driver.find_element_by_xpath(imdb_search_movie_xpath)\n",
    "    elem.click()\n",
    "    time.sleep(5)\n",
    "    #click the most relevevant result\n",
    "    elems = driver.find_elements_by_xpath(imdb_search_result_xpath)\n",
    "    first_elem = elems[0]\n",
    "    first_elem.click()\n",
    "    time.sleep(5)\n",
    "    # scrape  movie information\n",
    "    # movie_title\n",
    "    elem = driver.find_element_by_xpath(movie_title_xpath)\n",
    "    movie_title = elem.text\n",
    "  #  print(movie_title) #測試是否抓成功\n",
    "    ## movie_poster\n",
    "    elem = driver.find_element_by_xpath(movie_poster_xpath)\n",
    "    movie_poster = elem.get_attribute(\"src\")\n",
    "    time.sleep(5)\n",
    "   # print(movie_poster)\n",
    "    #movie_genre\n",
    "    elems = driver.find_elements_by_xpath(movie_genre_xpath)\n",
    "    movie_genre = [e.text for e in elems]\n",
    "   # print(movie_genre)\n",
    "    movie_release_date = movie_genre.pop()\n",
    "    #movie_rating\n",
    "    elem = driver.find_element_by_xpath(movie_rating_xpath)\n",
    "    movie_rating = float(elem.text)\n",
    "  #  print(movie_rating)\n",
    "    #movie_cast\n",
    "    elems = driver.find_elements_by_xpath(movie_cast_xpath)\n",
    "    movie_cast = [e.text for e in elems]\n",
    "  #  print(movie_cast)\n",
    "\n",
    "    movie_data = {\n",
    "        'movieTitle' : movie_title,\n",
    "        'moviePoster' : movie_poster,\n",
    "        'movie_Rating' : movie_rating,\n",
    "        'movie_Genre' : movie_genre,\n",
    "        'movie_Cast' : movie_cast\n",
    "    }\n",
    "    driver.close()\n",
    "    return movie_data"
   ]
  },
  {
   "cell_type": "code",
   "execution_count": 27,
   "metadata": {},
   "outputs": [
    {
     "name": "stdout",
     "output_type": "stream",
     "text": [
      "https://www.imdb.com/\n"
     ]
    },
    {
     "data": {
      "text/plain": [
       "{'movieTitle': '復仇者聯盟：終局之戰 (2019)',\n",
       " 'moviePoster': 'https://m.media-amazon.com/images/M/MV5BMTc5MDE2ODcwNV5BMl5BanBnXkFtZTgwMzI2NzQ2NzM@._V1_UX182_CR0,0,182,268_AL_.jpg',\n",
       " 'movie_Rating': 8.4,\n",
       " 'movie_Genre': ['Action', 'Adventure', 'Drama'],\n",
       " 'movie_Cast': ['Robert Downey Jr.',\n",
       "  'Chris Evans',\n",
       "  'Mark Ruffalo',\n",
       "  'Chris Hemsworth',\n",
       "  'Scarlett Johansson',\n",
       "  'Jeremy Renner',\n",
       "  'Don Cheadle',\n",
       "  'Paul Rudd',\n",
       "  'Benedict Cumberbatch',\n",
       "  'Chadwick Boseman',\n",
       "  'Brie Larson',\n",
       "  'Tom Holland',\n",
       "  'Karen Gillan',\n",
       "  'Zoe Saldana',\n",
       "  'Evangeline Lilly']}"
      ]
     },
     "execution_count": 27,
     "metadata": {},
     "output_type": "execute_result"
    }
   ],
   "source": [
    "get_movie_data(\"Avenger:Endgame\")"
   ]
  },
  {
   "cell_type": "code",
   "execution_count": 28,
   "metadata": {},
   "outputs": [
    {
     "name": "stdout",
     "output_type": "stream",
     "text": [
      "https://www.imdb.com/\n",
      "https://www.imdb.com/\n",
      "https://www.imdb.com/\n",
      "https://www.imdb.com/\n"
     ]
    }
   ],
   "source": [
    "#隨堂練習：以 selenium 擷取四部復仇者聯盟的電影資訊\n",
    "avengers_movies = [\"The Avengers (2012)\", \"Avengers: Age of Ultron (2015)\", \"Avengers: Infinity War (2018)\", \"Avengers: Endgame (2019)\"]\n",
    "avengers_movies_data = [get_movie_data(movie) for movie in avengers_movies]\n"
   ]
  },
  {
   "cell_type": "code",
   "execution_count": 29,
   "metadata": {},
   "outputs": [
    {
     "data": {
      "text/plain": [
       "4"
      ]
     },
     "execution_count": 29,
     "metadata": {},
     "output_type": "execute_result"
    }
   ],
   "source": [
    "len(avengers_movies_data)"
   ]
  },
  {
   "cell_type": "code",
   "execution_count": 31,
   "metadata": {},
   "outputs": [
    {
     "data": {
      "text/plain": [
       "{'movieTitle': '復仇者聯盟：終局之戰 (2019)',\n",
       " 'moviePoster': 'https://m.media-amazon.com/images/M/MV5BMTc5MDE2ODcwNV5BMl5BanBnXkFtZTgwMzI2NzQ2NzM@._V1_UX182_CR0,0,182,268_AL_.jpg',\n",
       " 'movie_Rating': 8.4,\n",
       " 'movie_Genre': ['Action', 'Adventure', 'Drama'],\n",
       " 'movie_Cast': ['Robert Downey Jr.',\n",
       "  'Chris Evans',\n",
       "  'Mark Ruffalo',\n",
       "  'Chris Hemsworth',\n",
       "  'Scarlett Johansson',\n",
       "  'Jeremy Renner',\n",
       "  'Don Cheadle',\n",
       "  'Paul Rudd',\n",
       "  'Benedict Cumberbatch',\n",
       "  'Chadwick Boseman',\n",
       "  'Brie Larson',\n",
       "  'Tom Holland',\n",
       "  'Karen Gillan',\n",
       "  'Zoe Saldana',\n",
       "  'Evangeline Lilly']}"
      ]
     },
     "execution_count": 31,
     "metadata": {},
     "output_type": "execute_result"
    }
   ],
   "source": [
    "avengers_movies_data[3]"
   ]
  },
  {
   "cell_type": "code",
   "execution_count": 34,
   "metadata": {},
   "outputs": [],
   "source": [
    "#匯出電影資訊\n",
    "import json\n",
    "\n",
    "with open(\"avengers.json\", \"w\") as f:\n",
    "    json.dump(avengers_movies_data, f)\n",
    "# 路徑可自己選\n",
    "# 記得給一個json的附檔名,w意思是除了創建和開啟,還要有寫入的動作\n",
    "# dump這個函式可以把抓到的檔案寫入開啟的檔案中"
   ]
  },
  {
   "cell_type": "code",
   "execution_count": null,
   "metadata": {},
   "outputs": [],
   "source": []
  }
 ],
 "metadata": {
  "kernelspec": {
   "display_name": "Python Web Scraping",
   "language": "python",
   "name": "selenium"
  },
  "language_info": {
   "codemirror_mode": {
    "name": "ipython",
    "version": 3
   },
   "file_extension": ".py",
   "mimetype": "text/x-python",
   "name": "python",
   "nbconvert_exporter": "python",
   "pygments_lexer": "ipython3",
   "version": "3.7.9"
  }
 },
 "nbformat": 4,
 "nbformat_minor": 4
}
